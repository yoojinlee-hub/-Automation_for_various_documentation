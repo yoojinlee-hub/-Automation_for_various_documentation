{
  "nbformat": 4,
  "nbformat_minor": 0,
  "metadata": {
    "colab": {
      "provenance": [],
      "authorship_tag": "ABX9TyO0zHMP44wt1CdLWbSX2/vR",
      "include_colab_link": true
    },
    "kernelspec": {
      "name": "python3",
      "display_name": "Python 3"
    },
    "language_info": {
      "name": "python"
    }
  },
  "cells": [
    {
      "cell_type": "markdown",
      "metadata": {
        "id": "view-in-github",
        "colab_type": "text"
      },
      "source": [
        "<a href=\"https://colab.research.google.com/github/yoojinlee-hub/Automation_for_various_documentation/blob/main/TheMinutesforMeetings.ipynb\" target=\"_parent\"><img src=\"https://colab.research.google.com/assets/colab-badge.svg\" alt=\"Open In Colab\"/></a>"
      ]
    },
    {
      "cell_type": "code",
      "execution_count": null,
      "metadata": {
        "id": "nnakazujqQdL"
      },
      "outputs": [],
      "source": [
        "!pip install openai"
      ]
    },
    {
      "cell_type": "code",
      "source": [
        "!pip install python-docx"
      ],
      "metadata": {
        "colab": {
          "base_uri": "https://localhost:8080/"
        },
        "id": "XwhVnBmrr1bx",
        "outputId": "3cf98d02-faa2-4021-a690-251b3b2ef37e"
      },
      "execution_count": 25,
      "outputs": [
        {
          "output_type": "stream",
          "name": "stdout",
          "text": [
            "Looking in indexes: https://pypi.org/simple, https://us-python.pkg.dev/colab-wheels/public/simple/\n",
            "Requirement already satisfied: python-docx in /usr/local/lib/python3.9/dist-packages (0.8.11)\n",
            "Requirement already satisfied: lxml>=2.3.2 in /usr/local/lib/python3.9/dist-packages (from python-docx) (4.9.2)\n"
          ]
        }
      ]
    },
    {
      "cell_type": "code",
      "source": [
        "import openai\n",
        "import re"
      ],
      "metadata": {
        "id": "J_lidnKorCR1"
      },
      "execution_count": 39,
      "outputs": []
    },
    {
      "cell_type": "code",
      "source": [
        "# OpenAI API Key 인증\n",
        "# https://platform.openai.com/account/api-keys 에서 받을 수 있음\n",
        "openai.api_key = \"\""
      ],
      "metadata": {
        "id": "TGAEjR28rFeb"
      },
      "execution_count": 40,
      "outputs": []
    },
    {
      "cell_type": "code",
      "source": [
        "# 대화 내용\n",
        "conversation = \"\"\"\n",
        "A: Good morning, everyone. Let's get started with the meeting.\n",
        "B: Good morning. What's on the agenda for today?\n",
        "C: I'd like to discuss the marketing strategy for the new product launch.\n",
        "A: Great. Let's start with that. Does anyone have any ideas to share?\n",
        "B: I think we should focus on social media marketing and influencer partnerships.\n",
        "C: Yes, I agree. We can also create a buzz by organizing a launch event.\n",
        "\"\"\""
      ],
      "metadata": {
        "id": "Hi4YjGsErXHC"
      },
      "execution_count": 41,
      "outputs": []
    },
    {
      "cell_type": "code",
      "source": [
        "# GPT-3 모델 예측 결과 받아오기\n",
        "result = openai.Completion.create(\n",
        "    engine=\"text-davinci-002\",\n",
        "    prompt=conversation,\n",
        "    max_tokens=50,\n",
        "    n=1,\n",
        "    stop=None,\n",
        "    temperature=0.5,\n",
        ")\n"
      ],
      "metadata": {
        "id": "XhulRQD4rcZX"
      },
      "execution_count": 42,
      "outputs": []
    },
    {
      "cell_type": "code",
      "source": [
        "# 분류된 대화 내용 저장할 딕셔너리 초기화\n",
        "topics = {}"
      ],
      "metadata": {
        "id": "4y5K90sarfLq"
      },
      "execution_count": 43,
      "outputs": []
    },
    {
      "cell_type": "code",
      "source": [
        "print(topics)"
      ],
      "metadata": {
        "colab": {
          "base_uri": "https://localhost:8080/"
        },
        "id": "aigobuL-tjzY",
        "outputId": "131a3183-1d61-4493-c470-afb3f243464e"
      },
      "execution_count": 44,
      "outputs": [
        {
          "output_type": "stream",
          "name": "stdout",
          "text": [
            "{}\n"
          ]
        }
      ]
    },
    {
      "cell_type": "code",
      "source": [
        "for choice in result.choices:\n",
        "    topic = re.search(r\"\\n(\\w.+):\", choice.text)\n",
        "    if topic is not None:\n",
        "        topic = topic.group(1)\n",
        "        if topic not in topics:\n",
        "            topics[topic] = []\n",
        "        topics[topic].append(choice.text.strip())"
      ],
      "metadata": {
        "id": "jBME5WKYrhWe"
      },
      "execution_count": 48,
      "outputs": []
    },
    {
      "cell_type": "code",
      "source": [
        "# 분류된 대화 내용 출력\n",
        "for topic, content in topics.items():\n",
        "    print(f\"\\n[{topic}]\")\n",
        "    for text in content:\n",
        "        print(f\"- {text}\")"
      ],
      "metadata": {
        "id": "xiiPnKcorj4a"
      },
      "execution_count": 49,
      "outputs": []
    },
    {
      "cell_type": "code",
      "source": [
        "from IPython.display import display\n",
        "\n",
        "for topic, content in topics.items():\n",
        "    display(f\"\\n[{topic}]\")\n",
        "    for text in content:\n",
        "        display(f\"- {text}\")\n"
      ],
      "metadata": {
        "id": "aOAQRYWVs-Q_"
      },
      "execution_count": 38,
      "outputs": []
    },
    {
      "cell_type": "code",
      "source": [
        "from docx import Document\n",
        "\n",
        "# 대화 내용을 저장할 Word 파일 생성\n",
        "doc = Document()\n",
        "\n",
        "# 분류된 대화 내용을 Word 파일에 쓰기\n",
        "for topic, content in topics.items():\n",
        "    # 대화 주제 쓰기\n",
        "    doc.add_heading(topic, level=1)\n",
        "    # 대화 내용 쓰기\n",
        "    for text in content:\n",
        "        doc.add_paragraph(text)\n",
        "\n",
        "# Word 파일 저장\n",
        "doc.save('meeting.docx')\n"
      ],
      "metadata": {
        "id": "iEm49NK7r9kW"
      },
      "execution_count": 36,
      "outputs": []
    }
  ]
}