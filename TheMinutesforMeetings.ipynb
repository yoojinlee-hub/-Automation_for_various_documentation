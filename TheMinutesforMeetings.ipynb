{
  "nbformat": 4,
  "nbformat_minor": 0,
  "metadata": {
    "colab": {
      "provenance": [],
      "authorship_tag": "ABX9TyPVctCbFv9O8bHV1pFRfzso",
      "include_colab_link": true
    },
    "kernelspec": {
      "name": "python3",
      "display_name": "Python 3"
    },
    "language_info": {
      "name": "python"
    }
  },
  "cells": [
    {
      "cell_type": "markdown",
      "metadata": {
        "id": "view-in-github",
        "colab_type": "text"
      },
      "source": [
        "<a href=\"https://colab.research.google.com/github/yoojinlee-hub/Automation_for_various_documentation/blob/main/TheMinutesforMeetings.ipynb\" target=\"_parent\"><img src=\"https://colab.research.google.com/assets/colab-badge.svg\" alt=\"Open In Colab\"/></a>"
      ]
    },
    {
      "cell_type": "code",
      "execution_count": null,
      "metadata": {
        "id": "nnakazujqQdL"
      },
      "outputs": [],
      "source": [
        "!pip install openai"
      ]
    },
    {
      "cell_type": "code",
      "source": [
        "!pip install python-docx"
      ],
      "metadata": {
        "colab": {
          "base_uri": "https://localhost:8080/"
        },
        "id": "XwhVnBmrr1bx",
        "outputId": "3cf98d02-faa2-4021-a690-251b3b2ef37e"
      },
      "execution_count": 25,
      "outputs": [
        {
          "output_type": "stream",
          "name": "stdout",
          "text": [
            "Looking in indexes: https://pypi.org/simple, https://us-python.pkg.dev/colab-wheels/public/simple/\n",
            "Requirement already satisfied: python-docx in /usr/local/lib/python3.9/dist-packages (0.8.11)\n",
            "Requirement already satisfied: lxml>=2.3.2 in /usr/local/lib/python3.9/dist-packages (from python-docx) (4.9.2)\n"
          ]
        }
      ]
    },
    {
      "cell_type": "code",
      "source": [
        "import openai\n",
        "import re"
      ],
      "metadata": {
        "id": "J_lidnKorCR1"
      },
      "execution_count": 39,
      "outputs": []
    },
    {
      "cell_type": "code",
      "source": [
        "import openai\n",
        "import re\n",
        "\n",
        "# OpenAI API key 설정\n",
        "openai.api_key = \"\"\n",
        "\n",
        "# 대화 내용\n",
        "conversation = \"\"\"\n",
        "A: Good morning, everyone. Let's get started with the meeting.\n",
        "B: Good morning. What's on the agenda for today?\n",
        "C: I'd like to discuss the marketing strategy for the new product launch.\n",
        "A: Great. Let's start with that. Does anyone have any ideas to share?\n",
        "B: I think we should focus on social media marketing and influencer partnerships.\n",
        "C: Yes, I agree. We can also create a buzz by organizing a launch event.\n",
        "\"\"\"\n",
        "\n",
        "# GPT-3 모델 예측 결과 받아오기\n",
        "result = openai.Completion.create(\n",
        "    engine=\"text-davinci-002\",\n",
        "    prompt=conversation,\n",
        "    max_tokens=50,\n",
        "    n=1,\n",
        "    stop=None,\n",
        "    temperature=0.5,\n",
        ")\n",
        "\n",
        "# 분류된 대화 내용 저장할 딕셔너리 초기화\n",
        "topics = {}\n",
        "\n",
        "# 정규표현식으로 대화 주제 추출\n",
        "for choice in result.choices:\n",
        "    print(choice.text)\n",
        "    topic = re.search(r\"\\n(\\w.+?):?\", choice.text)\n",
        "    print(topic)\n",
        "    if topic:\n",
        "        topic = topic.group(1)\n",
        "        if topic not in topics:\n",
        "            topics[topic] = []\n",
        "        topics[topic].append(choice.text.strip())\n",
        "        print(topics[topic])\n",
        "\n",
        "\n"
      ],
      "metadata": {
        "colab": {
          "base_uri": "https://localhost:8080/"
        },
        "id": "a9m9XG4zueOT",
        "outputId": "e2bd9555-46ea-4322-9e4e-e8ff0ef26e66"
      },
      "execution_count": 65,
      "outputs": [
        {
          "output_type": "stream",
          "name": "stdout",
          "text": [
            "A: Sounds like we have a plan. Let's move on to the next item on the agenda.\n",
            "None\n"
          ]
        }
      ]
    },
    {
      "cell_type": "code",
      "source": [
        "# 분류된 대화 내용 출력\n",
        "for topic, content in topics.items():\n",
        "    print(f\"\\n[{topic}]\")\n",
        "    for text in content:\n",
        "        print(f\"- {text}\")"
      ],
      "metadata": {
        "id": "KnLSvATcwBGc"
      },
      "execution_count": null,
      "outputs": []
    },
    {
      "cell_type": "code",
      "source": [
        "# OpenAI API Key 인증\n",
        "# https://platform.openai.com/account/api-keys 에서 받을 수 있음\n",
        "openai.api_key = \"\""
      ],
      "metadata": {
        "id": "TGAEjR28rFeb"
      },
      "execution_count": 40,
      "outputs": []
    },
    {
      "cell_type": "code",
      "source": [
        "from IPython.display import display\n",
        "\n",
        "for topic, content in topics.items():\n",
        "    display(f\"\\n[{topic}]\")\n",
        "    for text in content:\n",
        "        display(f\"- {text}\")\n"
      ],
      "metadata": {
        "id": "aOAQRYWVs-Q_"
      },
      "execution_count": 38,
      "outputs": []
    },
    {
      "cell_type": "code",
      "source": [
        "from docx import Document\n",
        "\n",
        "# 대화 내용을 저장할 Word 파일 생성\n",
        "doc = Document()\n",
        "\n",
        "# 분류된 대화 내용을 Word 파일에 쓰기\n",
        "for topic, content in topics.items():\n",
        "    # 대화 주제 쓰기\n",
        "    doc.add_heading(topic, level=1)\n",
        "    # 대화 내용 쓰기\n",
        "    for text in content:\n",
        "        doc.add_paragraph(text)\n",
        "\n",
        "# Word 파일 저장\n",
        "doc.save('meeting.docx')\n"
      ],
      "metadata": {
        "id": "iEm49NK7r9kW"
      },
      "execution_count": 36,
      "outputs": []
    },
    {
      "cell_type": "markdown",
      "source": [
        "\n",
        "\n",
        "---\n",
        "\n",
        "\n",
        "\n",
        "---\n",
        "\n"
      ],
      "metadata": {
        "id": "zgBYRVXIxXy6"
      }
    },
    {
      "cell_type": "code",
      "source": [
        "import re\n",
        "\n",
        "#### 사람 별로 분리\n",
        "# 대화 내용\n",
        "conversation = \"\"\"\n",
        "A: Good morning, everyone. 오늘 agenda 시작하겠습니다.\n",
        "B: 좋은 아침입니다. 오늘 agenda 안건은 무엇인가요?\n",
        "C: 제안서 검토와 마케팅 전략에 대해 논의할 예정입니다.\n",
        "A: 그러면, 제안서부터 검토하도록 하겠습니다. 문제점이나 개선사항에 대해 의견 부탁드립니다.\n",
        "B: 이번 제안서는 기존에 비해 문제점이 크지 않아 보입니다. 다만, 내용이나 그림 자료를 좀 더 구체적으로 추가해야 할 것 같습니다.\n",
        "C: 제가 제안한 내용을 보완하여 구체적인 자료를 추가할게요.\n",
        "A: 좋습니다. 그러면 다음으로 마케팅 전략에 대해 논의해볼까요?\n",
        "B: 네, SNS 마케팅과 유명 인플루언서와의 협력에 대해 고민하고 있었습니다.\n",
        "C: 제 의견으로는 제품 발표 이벤트를 기획하여 홍보하는 것이 좋을 것 같습니다.\n",
        "A: 그렇군요. 다음 agenda에서는 이번 agenda에서 논의한 내용을 바탕으로 작업 계획을 수립해보도록 하겠습니다. 이번 회의는 여기까지 마치겠습니다. 감사합니다.\n",
        "\"\"\"\n",
        "\n",
        "# 대화 내용을 줄 단위로 분리하여 리스트에 저장\n",
        "lines = conversation.strip().split('\\n')\n",
        "\n",
        "# 정규표현식으로 대화 참여자와 대화 내용을 분리하여 딕셔너리에 저장\n",
        "topics = {}\n",
        "for line in lines:\n",
        "    match = re.match(r'(\\w+): (.+)', line)\n",
        "    if match:\n",
        "        speaker, text = match.groups()\n",
        "        if speaker not in topics:\n",
        "            topics[speaker] = []\n",
        "        topics[speaker].append(text.strip())\n",
        "\n",
        "# 대화 주제별로 대화 내용을 분류하여 파일로 저장\n",
        "#with open('minutes.txt', 'w') as f:\n",
        "#    for speaker, texts in topics.items():\n",
        "#        print(f'[{speaker}]\\n')\n",
        "#       for text in texts:\n",
        "#            print(f'- {text}\\n')\n"
      ],
      "metadata": {
        "id": "uRelhFoGxYcd"
      },
      "execution_count": 77,
      "outputs": []
    },
    {
      "cell_type": "code",
      "source": [
        "\n",
        "\n",
        "# 정규표현식 패턴\n",
        "pattern = r'([A-Za-z]+): (.+)'\n",
        "\n",
        "# 대화별로 분리하여 저장할 딕셔너리\n",
        "conversations = {}\n",
        "\n",
        "# 대화 내용에서 패턴에 맞는 대화 분리하여 conversations에 저장\n",
        "for line in conversation.split('\\n'):\n",
        "    match = re.search(pattern, line)\n",
        "    if match:\n",
        "        name = match.group(1)\n",
        "        text = match.group(2)\n",
        "        if name not in conversations:\n",
        "            conversations[name] = []\n",
        "        conversations[name].append(text.strip())\n",
        "\n",
        "# conversations 출력\n",
        "for name, texts in conversations.items():\n",
        "    print(f\"[{name}]\")\n",
        "    for text in texts:\n",
        "        print(f\"- {text}\")\n"
      ],
      "metadata": {
        "colab": {
          "base_uri": "https://localhost:8080/"
        },
        "id": "6wpzf1tdyuzu",
        "outputId": "361d2002-5ff7-4344-9a10-d8e2d3b36ed4"
      },
      "execution_count": 78,
      "outputs": [
        {
          "output_type": "stream",
          "name": "stdout",
          "text": [
            "[A]\n",
            "- Good morning, everyone. 오늘 agenda 시작하겠습니다.\n",
            "- 그러면, 제안서부터 검토하도록 하겠습니다. 문제점이나 개선사항에 대해 의견 부탁드립니다.\n",
            "- 좋습니다. 그러면 다음으로 마케팅 전략에 대해 논의해볼까요?\n",
            "- 그렇군요. 다음 agenda에서는 이번 agenda에서 논의한 내용을 바탕으로 작업 계획을 수립해보도록 하겠습니다. 이번 회의는 여기까지 마치겠습니다. 감사합니다.\n",
            "[B]\n",
            "- 좋은 아침입니다. 오늘 agenda 안건은 무엇인가요?\n",
            "- 이번 제안서는 기존에 비해 문제점이 크지 않아 보입니다. 다만, 내용이나 그림 자료를 좀 더 구체적으로 추가해야 할 것 같습니다.\n",
            "- 네, SNS 마케팅과 유명 인플루언서와의 협력에 대해 고민하고 있었습니다.\n",
            "[C]\n",
            "- 제안서 검토와 마케팅 전략에 대해 논의할 예정입니다.\n",
            "- 제가 제안한 내용을 보완하여 구체적인 자료를 추가할게요.\n",
            "- 제 의견으로는 제품 발표 이벤트를 기획하여 홍보하는 것이 좋을 것 같습니다.\n"
          ]
        }
      ]
    },
    {
      "cell_type": "code",
      "source": [
        "from collections import Counter\n",
        "\n",
        "# 대화 내용을 소문자로 변환하여 통일성을 줌\n",
        "conversation = conversation.lower()\n",
        "\n",
        "# 대화 내용을 단어 단위로 분리\n",
        "words = re.findall(r'\\w+', conversation)\n",
        "\n",
        "# 단어 빈도수 계산\n",
        "word_counts = Counter(words)\n",
        "\n",
        "# 빈도수가 높은 상위 3개의 단어 추출하여 key_word 리스트에 저장\n",
        "key_word = [word for word, count in word_counts.most_common(3)]\n",
        "\n",
        "print(key_word)"
      ],
      "metadata": {
        "colab": {
          "base_uri": "https://localhost:8080/"
        },
        "id": "Gyb9g3RvzusY",
        "outputId": "ea5f76aa-5374-4522-f1cd-7395e24dd072"
      },
      "execution_count": 79,
      "outputs": [
        {
          "output_type": "stream",
          "name": "stdout",
          "text": [
            "['a', '대해', 'b']\n"
          ]
        }
      ]
    },
    {
      "cell_type": "code",
      "source": [
        "# 대화에서 나오는 단어(key word) 설정\n",
        "key_words = [\"제안서\", \"agenda\", \"홍보\", \"마케팅\"]\n",
        "\n",
        "# 정규표현식으로 대화 분리하여 딕셔너리에 저장\n",
        "topics = {key: [] for key in key_words}\n",
        "\n",
        "for line in conversation.split(\"\\n\"):\n",
        "    for key in key_words:\n",
        "        match = re.search(f\"\\\\b{key}\\\\b\", line, re.IGNORECASE)\n",
        "        if match:\n",
        "            topics[key].append(line.strip())\n",
        "            \n",
        "# 분류된 대화 내용 출력\n",
        "for key, content in topics.items():\n",
        "    print(f\"\\n[{key.upper()}]\")\n",
        "    for text in content:\n",
        "        print(f\"- {text}\")\n"
      ],
      "metadata": {
        "colab": {
          "base_uri": "https://localhost:8080/"
        },
        "id": "pcm3igRFzTuq",
        "outputId": "b6c8e037-a237-49d8-b70b-0fef24e18a0e"
      },
      "execution_count": 80,
      "outputs": [
        {
          "output_type": "stream",
          "name": "stdout",
          "text": [
            "\n",
            "[제안서]\n",
            "- c: 제안서 검토와 마케팅 전략에 대해 논의할 예정입니다.\n",
            "\n",
            "[AGENDA]\n",
            "- a: good morning, everyone. 오늘 agenda 시작하겠습니다.\n",
            "- b: 좋은 아침입니다. 오늘 agenda 안건은 무엇인가요?\n",
            "\n",
            "[홍보]\n",
            "\n",
            "[마케팅]\n",
            "- c: 제안서 검토와 마케팅 전략에 대해 논의할 예정입니다.\n",
            "- a: 좋습니다. 그러면 다음으로 마케팅 전략에 대해 논의해볼까요?\n"
          ]
        }
      ]
    }
  ]
}