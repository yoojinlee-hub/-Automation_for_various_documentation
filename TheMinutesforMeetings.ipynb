{
  "nbformat": 4,
  "nbformat_minor": 0,
  "metadata": {
    "colab": {
      "provenance": [],
      "authorship_tag": "ABX9TyONHcMFOJE//45cBvSOpaX4",
      "include_colab_link": true
    },
    "kernelspec": {
      "name": "python3",
      "display_name": "Python 3"
    },
    "language_info": {
      "name": "python"
    }
  },
  "cells": [
    {
      "cell_type": "markdown",
      "metadata": {
        "id": "view-in-github",
        "colab_type": "text"
      },
      "source": [
        "<a href=\"https://colab.research.google.com/github/yoojinlee-hub/Automation_for_various_documentation/blob/main/TheMinutesforMeetings.ipynb\" target=\"_parent\"><img src=\"https://colab.research.google.com/assets/colab-badge.svg\" alt=\"Open In Colab\"/></a>"
      ]
    },
    {
      "cell_type": "markdown",
      "source": [
        "\n",
        "\n",
        "---\n",
        "필수적인 import문 \n"
      ],
      "metadata": {
        "id": "FJa9p0XrfwA1"
      }
    },
    {
      "cell_type": "code",
      "source": [
        "import re\n",
        "import pandas as pd"
      ],
      "metadata": {
        "id": "DxrCe5ylf2B9"
      },
      "execution_count": 43,
      "outputs": []
    },
    {
      "cell_type": "markdown",
      "source": [
        "대화 내용"
      ],
      "metadata": {
        "id": "7lzUjkjPgAxU"
      }
    },
    {
      "cell_type": "code",
      "source": [
        "# 대화 내용\n",
        "conversation = \"\"\"\n",
        "Paul: 안녕하세요, 오늘 이 회의에서는 서버 컴퓨터의 메모리에 대해 이야기해보려고 합니다.\n",
        "Grace: 그렇습니다. 서버 컴퓨터의 메모리가 어떤 역할을 하는지 알고 계신가요?\n",
        "John: 메모리는 컴퓨터에서 데이터를 저장하고 처리하는데 필요한 공간입니다. 서버 컴퓨터에서는 메모리의 용량이 중요한 역할을 합니다.\n",
        "Rachel: 그렇습니다. 서버 컴퓨터에서는 대용량 데이터를 처리하므로 메모리 용량이 부족하면 작업이 멈추거나 느려질 수 있습니다.\n",
        "David: 그렇다면, 서버 컴퓨터에서 메모리 용량을 늘리는 방법은 무엇인가요?\n",
        "su: 메모리 용량을 늘리는 방법은 두 가지가 있습니다. 첫 번째는 서버 컴퓨터에 장착된 메모리를 추가하거나 교체하는 것이고, 두 번째는 가상화 기술을 이용해 서버 컴퓨터가 여러 대의 컴퓨터처럼 동작하도록 하는 것입니다.\n",
        "Paul: 그렇군요. 메모리를 추가하거나 교체하는 경우에는 어떤 종류의 메모리를 사용해야 할까요?\n",
        "Grace: 서버 컴퓨터에서는 ECC (Error Correcting Code) 메모리를 사용하는 것이 좋습니다. ECC 메모리는 일반 메모리보다 더 안정적이고 오류가 발생할 확률이 낮기 때문입니다.\n",
        "John: 그렇다면, 서버 컴퓨터에서 메모리를 추가할 때는 어떤 절차를 따라야 할까요?\n",
        "Rachel: 일반적으로 서버 컴퓨터에서 메모리를 추가하거나 교체할 때는 서버를 종료하고 메모리를 추가 또는 교체한 후 서버를 다시 부팅하는 것이 좋습니다.\n",
        "David: 그렇군요. 그러면, 가상화 기술을 이용한 메모리 용량 늘리기는 어떤 원리로 동작하는 건가요?\n",
        "su: 가상화 기술을 이용해 여러 대의 서버 컴퓨터가 하나의 컴퓨터처럼 동작하도록 만들면, 각 서버 컴퓨터의 메모리를 모아서\n",
        "Paul: 어떻게든 이 작업을 빠르게 처리해야 하는데, 이 서버의 메모리는 충분한가요?\n",
        "Grace: 그렇지 않습니다. 이 서버는 이미 최대 한도까지 메모리를 채웠습니다. 메모리를 늘리려면 새로운 서버를 추가해야 할 것입니다.\n",
        "John: 그렇다면 다른 대안은 무엇인가요?\n",
        "Grace: 다른 대안으로는 더 빠른 메모리로 업그레이드 하는 것입니다. 그러나 그것은 돈이 많이 들 것입니다.\n",
        "Rachel: 그렇다면, 예산 문제가 생길 수 있죠.\n",
        "David: 예산 문제라면, 메모리의 일부를 해제하여 사용 가능한 공간을 늘릴 수 있습니다.\n",
        "Grace: 그것은 가능하지만, 그렇게 할 경우 성능에 영향을 미칠 수 있습니다.\n",
        "John: 그렇지만 우리는 시간이 매우 중요합니다. 우리는 어떤 것이든 빠르게 해결해야 합니다.\n",
        "Paul: 다음으로 할 일은 무엇인가요?\n",
        "Grace: 잠시만 기다려주세요. 저는 다른 업그레이드 옵션을 살펴볼 수 있습니다. 이러한 경우는 이전에도 있었으므로 이에 대한 해결책이 있을 것입니다.\n",
        "Rachel: 다른 서버에 대해 어떻게 생각하세요?\n",
        "David: 그것은 우리에게 더 많은 비용을 들일 수 있습니다. 하지만, 시간이 더 많이 소요됩니다.\n",
        "John: 그렇다면 다른 대안은 무엇인가요?\n",
        "Grace: 잠시만 기다려주세요. 이 문제를 해결할 수 있는 다른 대안이 있을 수 있습니다.\n",
        "Paul: 그렇다면 다른 대안을 기다려보는 것이 좋겠군요.\n",
        "Rachel: 우리는 빠른 시일 내에 이 문제를 해결해야 합니다. 이것이 우리 회사의 목표이기 때문입니다.\n",
        "David: 저희는 메모리 관련 문제를 다루는 것 이상의 일을 해야 합니다. 이러한 문제를 처리하기 위해 다양한 대안을 고려해야 합니다.\n",
        "John: 그렇다면 다음에 회의에서 다시 논의해보겠습니다.\n",
        "Grace: 네, 이 문제를 더 살펴보고 다른 대안을 찾아보겠습니다.\n",
        "\"\"\""
      ],
      "metadata": {
        "id": "U-HVCHMmf_6x"
      },
      "execution_count": 42,
      "outputs": []
    },
    {
      "cell_type": "code",
      "source": [
        "#대화를 리스트 형식으로 변환\n",
        "conversation_list = []\n",
        "for line in conversation.strip().split('\\n'):\n",
        "  speaker, text = line.split(': ')\n",
        "  conversation_list.append((speaker, text))\n",
        "\n",
        "conversation_list"
      ],
      "metadata": {
        "id": "996b31Rz2eZw",
        "outputId": "159ed1b1-9462-410d-bb7b-5399779d0224",
        "colab": {
          "base_uri": "https://localhost:8080/"
        }
      },
      "execution_count": 88,
      "outputs": [
        {
          "output_type": "execute_result",
          "data": {
            "text/plain": [
              "[('Paul', '안녕하세요, 오늘 이 회의에서는 서버 컴퓨터의 메모리에 대해 이야기해보려고 합니다.'),\n",
              " ('Grace', '그렇습니다. 서버 컴퓨터의 메모리가 어떤 역할을 하는지 알고 계신가요?'),\n",
              " ('John',\n",
              "  '메모리는 컴퓨터에서 데이터를 저장하고 처리하는데 필요한 공간입니다. 서버 컴퓨터에서는 메모리의 용량이 중요한 역할을 합니다.'),\n",
              " ('Rachel',\n",
              "  '그렇습니다. 서버 컴퓨터에서는 대용량 데이터를 처리하므로 메모리 용량이 부족하면 작업이 멈추거나 느려질 수 있습니다.'),\n",
              " ('David', '그렇다면, 서버 컴퓨터에서 메모리 용량을 늘리는 방법은 무엇인가요?'),\n",
              " ('su',\n",
              "  '메모리 용량을 늘리는 방법은 두 가지가 있습니다. 첫 번째는 서버 컴퓨터에 장착된 메모리를 추가하거나 교체하는 것이고, 두 번째는 가상화 기술을 이용해 서버 컴퓨터가 여러 대의 컴퓨터처럼 동작하도록 하는 것입니다.'),\n",
              " ('Paul', '그렇군요. 메모리를 추가하거나 교체하는 경우에는 어떤 종류의 메모리를 사용해야 할까요?'),\n",
              " ('Grace',\n",
              "  '서버 컴퓨터에서는 ECC (Error Correcting Code) 메모리를 사용하는 것이 좋습니다. ECC 메모리는 일반 메모리보다 더 안정적이고 오류가 발생할 확률이 낮기 때문입니다.'),\n",
              " ('John', '그렇다면, 서버 컴퓨터에서 메모리를 추가할 때는 어떤 절차를 따라야 할까요?'),\n",
              " ('Rachel',\n",
              "  '일반적으로 서버 컴퓨터에서 메모리를 추가하거나 교체할 때는 서버를 종료하고 메모리를 추가 또는 교체한 후 서버를 다시 부팅하는 것이 좋습니다.'),\n",
              " ('David', '그렇군요. 그러면, 가상화 기술을 이용한 메모리 용량 늘리기는 어떤 원리로 동작하는 건가요?'),\n",
              " ('su', '가상화 기술을 이용해 여러 대의 서버 컴퓨터가 하나의 컴퓨터처럼 동작하도록 만들면, 각 서버 컴퓨터의 메모리를 모아서'),\n",
              " ('Paul', '어떻게든 이 작업을 빠르게 처리해야 하는데, 이 서버의 메모리는 충분한가요?'),\n",
              " ('Grace',\n",
              "  '그렇지 않습니다. 이 서버는 이미 최대 한도까지 메모리를 채웠습니다. 메모리를 늘리려면 새로운 서버를 추가해야 할 것입니다.'),\n",
              " ('John', '그렇다면 다른 대안은 무엇인가요?'),\n",
              " ('Grace', '다른 대안으로는 더 빠른 메모리로 업그레이드 하는 것입니다. 그러나 그것은 돈이 많이 들 것입니다.'),\n",
              " ('Rachel', '그렇다면, 예산 문제가 생길 수 있죠.'),\n",
              " ('David', '예산 문제라면, 메모리의 일부를 해제하여 사용 가능한 공간을 늘릴 수 있습니다.'),\n",
              " ('Grace', '그것은 가능하지만, 그렇게 할 경우 성능에 영향을 미칠 수 있습니다.'),\n",
              " ('John', '그렇지만 우리는 시간이 매우 중요합니다. 우리는 어떤 것이든 빠르게 해결해야 합니다.'),\n",
              " ('Paul', '다음으로 할 일은 무엇인가요?'),\n",
              " ('Grace',\n",
              "  '잠시만 기다려주세요. 저는 다른 업그레이드 옵션을 살펴볼 수 있습니다. 이러한 경우는 이전에도 있었으므로 이에 대한 해결책이 있을 것입니다.'),\n",
              " ('Rachel', '다른 서버에 대해 어떻게 생각하세요?'),\n",
              " ('David', '그것은 우리에게 더 많은 비용을 들일 수 있습니다. 하지만, 시간이 더 많이 소요됩니다.'),\n",
              " ('John', '그렇다면 다른 대안은 무엇인가요?'),\n",
              " ('Grace', '잠시만 기다려주세요. 이 문제를 해결할 수 있는 다른 대안이 있을 수 있습니다.'),\n",
              " ('Paul', '그렇다면 다른 대안을 기다려보는 것이 좋겠군요.'),\n",
              " ('Rachel', '우리는 빠른 시일 내에 이 문제를 해결해야 합니다. 이것이 우리 회사의 목표이기 때문입니다.'),\n",
              " ('David',\n",
              "  '저희는 메모리 관련 문제를 다루는 것 이상의 일을 해야 합니다. 이러한 문제를 처리하기 위해 다양한 대안을 고려해야 합니다.'),\n",
              " ('John', '그렇다면 다음에 회의에서 다시 논의해보겠습니다.'),\n",
              " ('Grace', '네, 이 문제를 더 살펴보고 다른 대안을 찾아보겠습니다.')]"
            ]
          },
          "metadata": {},
          "execution_count": 88
        }
      ]
    },
    {
      "cell_type": "markdown",
      "source": [
        "\n",
        "\n",
        "---\n",
        "\n"
      ],
      "metadata": {
        "id": "YHLQ5Dqvf5NJ"
      }
    },
    {
      "cell_type": "code",
      "source": [
        "\n",
        "# 대화 내용을 줄 단위로 분리하여 리스트에 저장\n",
        "lines = conversation.strip().split('\\n')\n",
        "\n",
        "# 정규표현식으로 대화 참여자와 대화 내용을 분리하여 딕셔너리에 저장\n",
        "topics = {}\n",
        "for line in lines:\n",
        "    match = re.match(r'(\\w+): (.+)', line)\n",
        "    if match:\n",
        "        speaker, text = match.groups()\n",
        "        if speaker not in topics:\n",
        "            topics[speaker] = []\n",
        "        topics[speaker].append(text.strip())\n",
        "\n",
        "# 대화 주제별로 대화 내용을 분류하여 파일로 저장\n",
        "#with open('minutes.txt', 'w') as f:\n",
        "#    for speaker, texts in topics.items():\n",
        "#        print(f'[{speaker}]\\n')\n",
        "#       for text in texts:\n",
        "#            print(f'- {text}\\n')\n"
      ],
      "metadata": {
        "id": "uRelhFoGxYcd"
      },
      "execution_count": 23,
      "outputs": []
    },
    {
      "cell_type": "markdown",
      "source": [
        "\n",
        "\n",
        "---\n",
        "발화자로 분류\n"
      ],
      "metadata": {
        "id": "SQU1F-9DbHh2"
      }
    },
    {
      "cell_type": "code",
      "source": [
        "\n",
        "\n",
        "# 정규표현식 패턴\n",
        "pattern = r'([A-Za-z]+): (.+)'\n",
        "\n",
        "# 대화별로 분리하여 저장할 딕셔너리\n",
        "conversations = {}\n",
        "\n",
        "# 대화 내용에서 패턴에 맞는 대화 분리하여 conversations에 저장\n",
        "for line in conversation.split('\\n'):\n",
        "    match = re.search(pattern, line)\n",
        "    if match:\n",
        "        name = match.group(1)\n",
        "        text = match.group(2)\n",
        "        if name not in conversations:\n",
        "            conversations[name] = []\n",
        "        conversations[name].append(text.strip())\n",
        "\n",
        "# conversations 출력\n",
        "for name, texts in conversations.items():\n",
        "    print(f\"[{name}]\")\n",
        "    for text in texts:\n",
        "        print(f\"- {text}\")\n"
      ],
      "metadata": {
        "colab": {
          "base_uri": "https://localhost:8080/"
        },
        "id": "6wpzf1tdyuzu",
        "outputId": "ddf4533c-a32d-4f01-f38c-357b3f36c2c8"
      },
      "execution_count": 24,
      "outputs": [
        {
          "output_type": "stream",
          "name": "stdout",
          "text": [
            "[Paul]\n",
            "- 안녕하세요, 오늘 이 회의에서는 서버 컴퓨터의 메모리에 대해 이야기해보려고 합니다.\n",
            "- 그렇군요. 메모리를 추가하거나 교체하는 경우에는 어떤 종류의 메모리를 사용해야 할까요?\n",
            "- 어떻게든 이 작업을 빠르게 처리해야 하는데, 이 서버의 메모리는 충분한가요?\n",
            "- 다음으로 할 일은 무엇인가요?\n",
            "- 그렇다면 다른 대안을 기다려보는 것이 좋겠군요.\n",
            "[Grace]\n",
            "- 그렇습니다. 서버 컴퓨터의 메모리가 어떤 역할을 하는지 알고 계신가요?\n",
            "- 서버 컴퓨터에서는 ECC (Error Correcting Code) 메모리를 사용하는 것이 좋습니다. ECC 메모리는 일반 메모리보다 더 안정적이고 오류가 발생할 확률이 낮기 때문입니다.\n",
            "- 그렇지 않습니다. 이 서버는 이미 최대 한도까지 메모리를 채웠습니다. 메모리를 늘리려면 새로운 서버를 추가해야 할 것입니다.\n",
            "- 다른 대안으로는 더 빠른 메모리로 업그레이드 하는 것입니다. 그러나 그것은 돈이 많이 들 것입니다.\n",
            "- 그것은 가능하지만, 그렇게 할 경우 성능에 영향을 미칠 수 있습니다.\n",
            "- 잠시만 기다려주세요. 저는 다른 업그레이드 옵션을 살펴볼 수 있습니다. 이러한 경우는 이전에도 있었으므로 이에 대한 해결책이 있을 것입니다.\n",
            "- 잠시만 기다려주세요. 이 문제를 해결할 수 있는 다른 대안이 있을 수 있습니다.\n",
            "- 네, 이 문제를 더 살펴보고 다른 대안을 찾아보겠습니다.\n",
            "[John]\n",
            "- 메모리는 컴퓨터에서 데이터를 저장하고 처리하는데 필요한 공간입니다. 서버 컴퓨터에서는 메모리의 용량이 중요한 역할을 합니다.\n",
            "- 그렇다면, 서버 컴퓨터에서 메모리를 추가할 때는 어떤 절차를 따라야 할까요?\n",
            "- 그렇다면 다른 대안은 무엇인가요?\n",
            "- 그렇지만 우리는 시간이 매우 중요합니다. 우리는 어떤 것이든 빠르게 해결해야 합니다.\n",
            "- 그렇다면 다른 대안은 무엇인가요?\n",
            "- 그렇다면 다음에 회의에서 다시 논의해보겠습니다.\n",
            "[Rachel]\n",
            "- 그렇습니다. 서버 컴퓨터에서는 대용량 데이터를 처리하므로 메모리 용량이 부족하면 작업이 멈추거나 느려질 수 있습니다.\n",
            "- 일반적으로 서버 컴퓨터에서 메모리를 추가하거나 교체할 때는 서버를 종료하고 메모리를 추가 또는 교체한 후 서버를 다시 부팅하는 것이 좋습니다.\n",
            "- 그렇다면, 예산 문제가 생길 수 있죠.\n",
            "- 다른 서버에 대해 어떻게 생각하세요?\n",
            "- 우리는 빠른 시일 내에 이 문제를 해결해야 합니다. 이것이 우리 회사의 목표이기 때문입니다.\n",
            "[David]\n",
            "- 그렇다면, 서버 컴퓨터에서 메모리 용량을 늘리는 방법은 무엇인가요?\n",
            "- 그렇군요. 그러면, 가상화 기술을 이용한 메모리 용량 늘리기는 어떤 원리로 동작하는 건가요?\n",
            "- 예산 문제라면, 메모리의 일부를 해제하여 사용 가능한 공간을 늘릴 수 있습니다.\n",
            "- 그것은 우리에게 더 많은 비용을 들일 수 있습니다. 하지만, 시간이 더 많이 소요됩니다.\n",
            "- 저희는 메모리 관련 문제를 다루는 것 이상의 일을 해야 합니다. 이러한 문제를 처리하기 위해 다양한 대안을 고려해야 합니다.\n",
            "[su]\n",
            "- 메모리 용량을 늘리는 방법은 두 가지가 있습니다. 첫 번째는 서버 컴퓨터에 장착된 메모리를 추가하거나 교체하는 것이고, 두 번째는 가상화 기술을 이용해 서버 컴퓨터가 여러 대의 컴퓨터처럼 동작하도록 하는 것입니다.\n",
            "- 가상화 기술을 이용해 여러 대의 서버 컴퓨터가 하나의 컴퓨터처럼 동작하도록 만들면, 각 서버 컴퓨터의 메모리를 모아서\n"
          ]
        }
      ]
    },
    {
      "cell_type": "markdown",
      "source": [
        "\n",
        "\n",
        "---\n",
        "자주 사용되는 단어 추출\n"
      ],
      "metadata": {
        "id": "Q84aQ6yWbKb9"
      }
    },
    {
      "cell_type": "code",
      "source": [
        "from collections import Counter\n",
        "\n",
        "# 대화 내용을 소문자로 변환하여 통일성을 줌\n",
        "#conversation = conversation.lower()\n",
        "\n",
        "# 대화 내용을 단어 단위로 분리\n",
        "words = re.findall(r'\\w+', conversation)\n",
        "\n",
        "# 단어 빈도수 계산\n",
        "word_counts = Counter(words)\n",
        "\n",
        "# 빈도수가 높은 상위 3개의 단어 추출하여 key_word 리스트에 저장\n",
        "key_word = [word for word, count in word_counts.most_common(5)]\n",
        "\n",
        "print(key_word)"
      ],
      "metadata": {
        "colab": {
          "base_uri": "https://localhost:8080/"
        },
        "id": "Gyb9g3RvzusY",
        "outputId": "f26bb1a0-564c-4a7d-f7f9-4dadd9ddedb9"
      },
      "execution_count": 26,
      "outputs": [
        {
          "output_type": "stream",
          "name": "stdout",
          "text": [
            "['서버', '메모리를', 'Grace', '수', '다른']\n"
          ]
        }
      ]
    },
    {
      "cell_type": "markdown",
      "source": [
        "\n",
        "\n",
        "---\n",
        "\n",
        "단어 별로 출력 "
      ],
      "metadata": {
        "id": "-Y1QVPofbOZo"
      }
    },
    {
      "cell_type": "code",
      "source": [
        "# 대화에서 나오는 단어(key word) 설정\n",
        "key_words = [\"서버\", \"메모리\", \"대용량\", \"가상화\", \"예산\"]\n",
        "\n",
        "# 정규표현식으로 대화 분리하여 딕셔너리에 저장\n",
        "topics = {key: [] for key in key_words}\n",
        "\n",
        "for line in conversation.split(\"\\n\"):\n",
        "    for key in key_words:\n",
        "        match = re.search(f\"\\\\b{key}\\\\b\", line, re.IGNORECASE)\n",
        "        if match:\n",
        "            topics[key].append(line.strip())\n",
        "            \n",
        "# 분류된 대화 내용 출력\n",
        "for key, content in topics.items():\n",
        "    print(f\"\\n[{key.upper()}]\")\n",
        "    for text in content:\n",
        "        print(f\"- {text}\")\n"
      ],
      "metadata": {
        "colab": {
          "base_uri": "https://localhost:8080/"
        },
        "id": "pcm3igRFzTuq",
        "outputId": "fb4c8519-d011-47e6-8bed-54495673c42a"
      },
      "execution_count": 27,
      "outputs": [
        {
          "output_type": "stream",
          "name": "stdout",
          "text": [
            "\n",
            "[서버]\n",
            "- Paul: 안녕하세요, 오늘 이 회의에서는 서버 컴퓨터의 메모리에 대해 이야기해보려고 합니다.\n",
            "- Grace: 그렇습니다. 서버 컴퓨터의 메모리가 어떤 역할을 하는지 알고 계신가요?\n",
            "- John: 메모리는 컴퓨터에서 데이터를 저장하고 처리하는데 필요한 공간입니다. 서버 컴퓨터에서는 메모리의 용량이 중요한 역할을 합니다.\n",
            "- Rachel: 그렇습니다. 서버 컴퓨터에서는 대용량 데이터를 처리하므로 메모리 용량이 부족하면 작업이 멈추거나 느려질 수 있습니다.\n",
            "- David: 그렇다면, 서버 컴퓨터에서 메모리 용량을 늘리는 방법은 무엇인가요?\n",
            "- su: 메모리 용량을 늘리는 방법은 두 가지가 있습니다. 첫 번째는 서버 컴퓨터에 장착된 메모리를 추가하거나 교체하는 것이고, 두 번째는 가상화 기술을 이용해 서버 컴퓨터가 여러 대의 컴퓨터처럼 동작하도록 하는 것입니다.\n",
            "- Grace: 서버 컴퓨터에서는 ECC (Error Correcting Code) 메모리를 사용하는 것이 좋습니다. ECC 메모리는 일반 메모리보다 더 안정적이고 오류가 발생할 확률이 낮기 때문입니다.\n",
            "- John: 그렇다면, 서버 컴퓨터에서 메모리를 추가할 때는 어떤 절차를 따라야 할까요?\n",
            "- Rachel: 일반적으로 서버 컴퓨터에서 메모리를 추가하거나 교체할 때는 서버를 종료하고 메모리를 추가 또는 교체한 후 서버를 다시 부팅하는 것이 좋습니다.\n",
            "- su: 가상화 기술을 이용해 여러 대의 서버 컴퓨터가 하나의 컴퓨터처럼 동작하도록 만들면, 각 서버 컴퓨터의 메모리를 모아서\n",
            "\n",
            "[메모리]\n",
            "- Rachel: 그렇습니다. 서버 컴퓨터에서는 대용량 데이터를 처리하므로 메모리 용량이 부족하면 작업이 멈추거나 느려질 수 있습니다.\n",
            "- David: 그렇다면, 서버 컴퓨터에서 메모리 용량을 늘리는 방법은 무엇인가요?\n",
            "- su: 메모리 용량을 늘리는 방법은 두 가지가 있습니다. 첫 번째는 서버 컴퓨터에 장착된 메모리를 추가하거나 교체하는 것이고, 두 번째는 가상화 기술을 이용해 서버 컴퓨터가 여러 대의 컴퓨터처럼 동작하도록 하는 것입니다.\n",
            "- David: 그렇군요. 그러면, 가상화 기술을 이용한 메모리 용량 늘리기는 어떤 원리로 동작하는 건가요?\n",
            "- David: 저희는 메모리 관련 문제를 다루는 것 이상의 일을 해야 합니다. 이러한 문제를 처리하기 위해 다양한 대안을 고려해야 합니다.\n",
            "\n",
            "[대용량]\n",
            "- Rachel: 그렇습니다. 서버 컴퓨터에서는 대용량 데이터를 처리하므로 메모리 용량이 부족하면 작업이 멈추거나 느려질 수 있습니다.\n",
            "\n",
            "[가상화]\n",
            "- su: 메모리 용량을 늘리는 방법은 두 가지가 있습니다. 첫 번째는 서버 컴퓨터에 장착된 메모리를 추가하거나 교체하는 것이고, 두 번째는 가상화 기술을 이용해 서버 컴퓨터가 여러 대의 컴퓨터처럼 동작하도록 하는 것입니다.\n",
            "- David: 그렇군요. 그러면, 가상화 기술을 이용한 메모리 용량 늘리기는 어떤 원리로 동작하는 건가요?\n",
            "- su: 가상화 기술을 이용해 여러 대의 서버 컴퓨터가 하나의 컴퓨터처럼 동작하도록 만들면, 각 서버 컴퓨터의 메모리를 모아서\n",
            "\n",
            "[예산]\n",
            "- Rachel: 그렇다면, 예산 문제가 생길 수 있죠.\n",
            "- David: 예산 문제라면, 메모리의 일부를 해제하여 사용 가능한 공간을 늘릴 수 있습니다.\n"
          ]
        }
      ]
    },
    {
      "cell_type": "markdown",
      "source": [
        "\n",
        "\n",
        "---\n",
        "표로 출력\n"
      ],
      "metadata": {
        "id": "NxsMxb5_6dsv"
      }
    },
    {
      "cell_type": "code",
      "source": [
        "# 정규표현식으로 대화 분리하여 리스트에 저장\n",
        "conversation_list = []\n",
        "for line in conversation.split(\"\\n\"):\n",
        "    if ':' not in line:\n",
        "        continue\n",
        "    index = line.index(':')\n",
        "    speaker, text = line[:index], line[index+2:]\n",
        "    conversation_list.append([speaker, text])\n",
        "\n",
        "# 대화에서 나오는 단어(key word) 설정\n",
        "key_words = [\"서버\", \"메모리\", \"대용량\", \"가상화\", \"예산\"]\n",
        "\n",
        "# 대화내용과 키워드가 들어간 데이터프레임 생성\n",
        "df = pd.DataFrame(columns=[\"Speaker\", \"Conversation\", \"Keywords\"])\n",
        "for line in conversation_list:\n",
        "    speaker, text = line[0], line[1]\n",
        "    keywords_found = []\n",
        "    for keyword in key_words:\n",
        "        if re.search(f\"\\\\b{keyword}\\\\b\", text, re.IGNORECASE):\n",
        "            keywords_found.append(keyword)\n",
        "    df = df.append({\"Speaker\": speaker, \"Conversation\": text, \"Keywords\": keywords_found}, ignore_index=True)\n",
        "\n",
        "# 데이터프레임 출력\n",
        "print(df)\n",
        "df.to_csv(\"output.csv\", index=False)\n"
      ],
      "metadata": {
        "id": "G5jx9KnUeVAX"
      },
      "execution_count": null,
      "outputs": []
    },
    {
      "cell_type": "markdown",
      "source": [
        "\n",
        "\n",
        "---\n",
        "\n",
        "word dictionary 사용"
      ],
      "metadata": {
        "id": "Gbi1ZMnPmGhH"
      }
    },
    {
      "cell_type": "code",
      "source": [
        "word_dict = {\n",
        "    \"서버\": [\"서버\", \"대용량\"],\n",
        "    \"메모리\": [\"메모리\", \"가상화\", \"용량\"],\n",
        "    \"예산\": [\"예산\", \"추가\", \"교체\", \"시간\"],\n",
        "    \"회의\": [\"회의\", \"대안\", \"?\"]\n",
        "}\n"
      ],
      "metadata": {
        "id": "0YPj0I76mKtl"
      },
      "execution_count": 77,
      "outputs": []
    },
    {
      "cell_type": "code",
      "source": [
        "for word in words:\n",
        "    if word in word_dict:\n",
        "        keywords_found.extend(word_dict[word])\n",
        "    else:\n",
        "        keywords_found.append(word)\n"
      ],
      "metadata": {
        "id": "E1OwrpdcnMWa"
      },
      "execution_count": 75,
      "outputs": []
    },
    {
      "cell_type": "code",
      "source": [
        "# 대화에서 나오는 단어(key word) 설정\n",
        "key_words = list(word_dict.keys())\n",
        "\n",
        "# 대화내용과 키워드가 들어간 데이터프레임 생성\n",
        "df = pd.DataFrame(columns=[\"Speaker\", \"Conversation\", \"Keywords\"])\n",
        "found = 0\n",
        "for line in conversation_list:\n",
        "    speaker, text = line[0], line[1]\n",
        "    keywords_found = []\n",
        "    for keyword in key_words:\n",
        "      if re.search(f\"\\\\b{keyword}\\\\b\", text, re.IGNORECASE):\n",
        "        keywords_found.append(word_dict[keyword][0])\n",
        "        found = 1\n",
        "    if found == 1:\n",
        "      found = 0\n",
        "    else:\n",
        "      keywords_found.append(\"etc\")\n",
        "    df = df.append({\"Speaker\": speaker, \"Conversation\": text, \"Keywords\": keywords_found}, ignore_index=True)\n",
        "\n",
        "# 데이터프레임 출력\n",
        "print(df)\n",
        "df.to_csv(\"output.csv\", index=False)\n"
      ],
      "metadata": {
        "colab": {
          "base_uri": "https://localhost:8080/"
        },
        "id": "Z2ikMW9OnQWV",
        "outputId": "19c083a2-e86e-4feb-88e7-b71506d436d6"
      },
      "execution_count": 78,
      "outputs": [
        {
          "output_type": "stream",
          "name": "stdout",
          "text": [
            "   Speaker                                       Conversation   Keywords\n",
            "0     Paul     안녕하세요, 오늘 이 회의에서는 서버 컴퓨터의 메모리에 대해 이야기해보려고 합니다.       [서버]\n",
            "1    Grace            그렇습니다. 서버 컴퓨터의 메모리가 어떤 역할을 하는지 알고 계신가요?       [서버]\n",
            "2     John  메모리는 컴퓨터에서 데이터를 저장하고 처리하는데 필요한 공간입니다. 서버 컴퓨터에서...       [서버]\n",
            "3   Rachel  그렇습니다. 서버 컴퓨터에서는 대용량 데이터를 처리하므로 메모리 용량이 부족하면 작...  [서버, 메모리]\n",
            "4    David              그렇다면, 서버 컴퓨터에서 메모리 용량을 늘리는 방법은 무엇인가요?  [서버, 메모리]\n",
            "5       su  메모리 용량을 늘리는 방법은 두 가지가 있습니다. 첫 번째는 서버 컴퓨터에 장착된 ...  [서버, 메모리]\n",
            "6     Paul   그렇군요. 메모리를 추가하거나 교체하는 경우에는 어떤 종류의 메모리를 사용해야 할까요?      [etc]\n",
            "7    Grace  서버 컴퓨터에서는 ECC (Error Correcting Code) 메모리를 사용하...       [서버]\n",
            "8     John         그렇다면, 서버 컴퓨터에서 메모리를 추가할 때는 어떤 절차를 따라야 할까요?       [서버]\n",
            "9   Rachel  일반적으로 서버 컴퓨터에서 메모리를 추가하거나 교체할 때는 서버를 종료하고 메모리를...       [서버]\n",
            "10   David  그렇군요. 그러면, 가상화 기술을 이용한 메모리 용량 늘리기는 어떤 원리로 동작하는...      [메모리]\n",
            "11      su  가상화 기술을 이용해 여러 대의 서버 컴퓨터가 하나의 컴퓨터처럼 동작하도록 만들면,...       [서버]\n",
            "12    Paul         어떻게든 이 작업을 빠르게 처리해야 하는데, 이 서버의 메모리는 충분한가요?      [etc]\n",
            "13   Grace  그렇지 않습니다. 이 서버는 이미 최대 한도까지 메모리를 채웠습니다. 메모리를 늘리...      [etc]\n",
            "14    John                                 그렇다면 다른 대안은 무엇인가요?      [etc]\n",
            "15   Grace  다른 대안으로는 더 빠른 메모리로 업그레이드 하는 것입니다. 그러나 그것은 돈이 많...      [etc]\n",
            "16  Rachel                              그렇다면, 예산 문제가 생길 수 있죠.       [예산]\n",
            "17   David       예산 문제라면, 메모리의 일부를 해제하여 사용 가능한 공간을 늘릴 수 있습니다.       [예산]\n",
            "18   Grace             그것은 가능하지만, 그렇게 할 경우 성능에 영향을 미칠 수 있습니다.      [etc]\n",
            "19    John    그렇지만 우리는 시간이 매우 중요합니다. 우리는 어떤 것이든 빠르게 해결해야 합니다.      [etc]\n",
            "20    Paul                                   다음으로 할 일은 무엇인가요?      [etc]\n",
            "21   Grace  잠시만 기다려주세요. 저는 다른 업그레이드 옵션을 살펴볼 수 있습니다. 이러한 경우...      [etc]\n",
            "22  Rachel                               다른 서버에 대해 어떻게 생각하세요?      [etc]\n",
            "23   David  그것은 우리에게 더 많은 비용을 들일 수 있습니다. 하지만, 시간이 더 많이 소요됩니다.      [etc]\n",
            "24    John                                 그렇다면 다른 대안은 무엇인가요?      [etc]\n",
            "25   Grace       잠시만 기다려주세요. 이 문제를 해결할 수 있는 다른 대안이 있을 수 있습니다.      [etc]\n",
            "26    Paul                         그렇다면 다른 대안을 기다려보는 것이 좋겠군요.      [etc]\n",
            "27  Rachel  우리는 빠른 시일 내에 이 문제를 해결해야 합니다. 이것이 우리 회사의 목표이기 때...      [etc]\n",
            "28   David  저희는 메모리 관련 문제를 다루는 것 이상의 일을 해야 합니다. 이러한 문제를 처리...      [메모리]\n",
            "29    John                         그렇다면 다음에 회의에서 다시 논의해보겠습니다.      [etc]\n",
            "30   Grace                    네, 이 문제를 더 살펴보고 다른 대안을 찾아보겠습니다.      [etc]\n"
          ]
        },
        {
          "output_type": "stream",
          "name": "stderr",
          "text": [
            "<ipython-input-78-44d5884982a9>:18: FutureWarning: The frame.append method is deprecated and will be removed from pandas in a future version. Use pandas.concat instead.\n",
            "  df = df.append({\"Speaker\": speaker, \"Conversation\": text, \"Keywords\": keywords_found}, ignore_index=True)\n",
            "<ipython-input-78-44d5884982a9>:18: FutureWarning: The frame.append method is deprecated and will be removed from pandas in a future version. Use pandas.concat instead.\n",
            "  df = df.append({\"Speaker\": speaker, \"Conversation\": text, \"Keywords\": keywords_found}, ignore_index=True)\n",
            "<ipython-input-78-44d5884982a9>:18: FutureWarning: The frame.append method is deprecated and will be removed from pandas in a future version. Use pandas.concat instead.\n",
            "  df = df.append({\"Speaker\": speaker, \"Conversation\": text, \"Keywords\": keywords_found}, ignore_index=True)\n",
            "<ipython-input-78-44d5884982a9>:18: FutureWarning: The frame.append method is deprecated and will be removed from pandas in a future version. Use pandas.concat instead.\n",
            "  df = df.append({\"Speaker\": speaker, \"Conversation\": text, \"Keywords\": keywords_found}, ignore_index=True)\n",
            "<ipython-input-78-44d5884982a9>:18: FutureWarning: The frame.append method is deprecated and will be removed from pandas in a future version. Use pandas.concat instead.\n",
            "  df = df.append({\"Speaker\": speaker, \"Conversation\": text, \"Keywords\": keywords_found}, ignore_index=True)\n",
            "<ipython-input-78-44d5884982a9>:18: FutureWarning: The frame.append method is deprecated and will be removed from pandas in a future version. Use pandas.concat instead.\n",
            "  df = df.append({\"Speaker\": speaker, \"Conversation\": text, \"Keywords\": keywords_found}, ignore_index=True)\n",
            "<ipython-input-78-44d5884982a9>:18: FutureWarning: The frame.append method is deprecated and will be removed from pandas in a future version. Use pandas.concat instead.\n",
            "  df = df.append({\"Speaker\": speaker, \"Conversation\": text, \"Keywords\": keywords_found}, ignore_index=True)\n",
            "<ipython-input-78-44d5884982a9>:18: FutureWarning: The frame.append method is deprecated and will be removed from pandas in a future version. Use pandas.concat instead.\n",
            "  df = df.append({\"Speaker\": speaker, \"Conversation\": text, \"Keywords\": keywords_found}, ignore_index=True)\n",
            "<ipython-input-78-44d5884982a9>:18: FutureWarning: The frame.append method is deprecated and will be removed from pandas in a future version. Use pandas.concat instead.\n",
            "  df = df.append({\"Speaker\": speaker, \"Conversation\": text, \"Keywords\": keywords_found}, ignore_index=True)\n",
            "<ipython-input-78-44d5884982a9>:18: FutureWarning: The frame.append method is deprecated and will be removed from pandas in a future version. Use pandas.concat instead.\n",
            "  df = df.append({\"Speaker\": speaker, \"Conversation\": text, \"Keywords\": keywords_found}, ignore_index=True)\n",
            "<ipython-input-78-44d5884982a9>:18: FutureWarning: The frame.append method is deprecated and will be removed from pandas in a future version. Use pandas.concat instead.\n",
            "  df = df.append({\"Speaker\": speaker, \"Conversation\": text, \"Keywords\": keywords_found}, ignore_index=True)\n",
            "<ipython-input-78-44d5884982a9>:18: FutureWarning: The frame.append method is deprecated and will be removed from pandas in a future version. Use pandas.concat instead.\n",
            "  df = df.append({\"Speaker\": speaker, \"Conversation\": text, \"Keywords\": keywords_found}, ignore_index=True)\n",
            "<ipython-input-78-44d5884982a9>:18: FutureWarning: The frame.append method is deprecated and will be removed from pandas in a future version. Use pandas.concat instead.\n",
            "  df = df.append({\"Speaker\": speaker, \"Conversation\": text, \"Keywords\": keywords_found}, ignore_index=True)\n",
            "<ipython-input-78-44d5884982a9>:18: FutureWarning: The frame.append method is deprecated and will be removed from pandas in a future version. Use pandas.concat instead.\n",
            "  df = df.append({\"Speaker\": speaker, \"Conversation\": text, \"Keywords\": keywords_found}, ignore_index=True)\n",
            "<ipython-input-78-44d5884982a9>:18: FutureWarning: The frame.append method is deprecated and will be removed from pandas in a future version. Use pandas.concat instead.\n",
            "  df = df.append({\"Speaker\": speaker, \"Conversation\": text, \"Keywords\": keywords_found}, ignore_index=True)\n",
            "<ipython-input-78-44d5884982a9>:18: FutureWarning: The frame.append method is deprecated and will be removed from pandas in a future version. Use pandas.concat instead.\n",
            "  df = df.append({\"Speaker\": speaker, \"Conversation\": text, \"Keywords\": keywords_found}, ignore_index=True)\n",
            "<ipython-input-78-44d5884982a9>:18: FutureWarning: The frame.append method is deprecated and will be removed from pandas in a future version. Use pandas.concat instead.\n",
            "  df = df.append({\"Speaker\": speaker, \"Conversation\": text, \"Keywords\": keywords_found}, ignore_index=True)\n",
            "<ipython-input-78-44d5884982a9>:18: FutureWarning: The frame.append method is deprecated and will be removed from pandas in a future version. Use pandas.concat instead.\n",
            "  df = df.append({\"Speaker\": speaker, \"Conversation\": text, \"Keywords\": keywords_found}, ignore_index=True)\n",
            "<ipython-input-78-44d5884982a9>:18: FutureWarning: The frame.append method is deprecated and will be removed from pandas in a future version. Use pandas.concat instead.\n",
            "  df = df.append({\"Speaker\": speaker, \"Conversation\": text, \"Keywords\": keywords_found}, ignore_index=True)\n",
            "<ipython-input-78-44d5884982a9>:18: FutureWarning: The frame.append method is deprecated and will be removed from pandas in a future version. Use pandas.concat instead.\n",
            "  df = df.append({\"Speaker\": speaker, \"Conversation\": text, \"Keywords\": keywords_found}, ignore_index=True)\n",
            "<ipython-input-78-44d5884982a9>:18: FutureWarning: The frame.append method is deprecated and will be removed from pandas in a future version. Use pandas.concat instead.\n",
            "  df = df.append({\"Speaker\": speaker, \"Conversation\": text, \"Keywords\": keywords_found}, ignore_index=True)\n",
            "<ipython-input-78-44d5884982a9>:18: FutureWarning: The frame.append method is deprecated and will be removed from pandas in a future version. Use pandas.concat instead.\n",
            "  df = df.append({\"Speaker\": speaker, \"Conversation\": text, \"Keywords\": keywords_found}, ignore_index=True)\n",
            "<ipython-input-78-44d5884982a9>:18: FutureWarning: The frame.append method is deprecated and will be removed from pandas in a future version. Use pandas.concat instead.\n",
            "  df = df.append({\"Speaker\": speaker, \"Conversation\": text, \"Keywords\": keywords_found}, ignore_index=True)\n",
            "<ipython-input-78-44d5884982a9>:18: FutureWarning: The frame.append method is deprecated and will be removed from pandas in a future version. Use pandas.concat instead.\n",
            "  df = df.append({\"Speaker\": speaker, \"Conversation\": text, \"Keywords\": keywords_found}, ignore_index=True)\n",
            "<ipython-input-78-44d5884982a9>:18: FutureWarning: The frame.append method is deprecated and will be removed from pandas in a future version. Use pandas.concat instead.\n",
            "  df = df.append({\"Speaker\": speaker, \"Conversation\": text, \"Keywords\": keywords_found}, ignore_index=True)\n",
            "<ipython-input-78-44d5884982a9>:18: FutureWarning: The frame.append method is deprecated and will be removed from pandas in a future version. Use pandas.concat instead.\n",
            "  df = df.append({\"Speaker\": speaker, \"Conversation\": text, \"Keywords\": keywords_found}, ignore_index=True)\n",
            "<ipython-input-78-44d5884982a9>:18: FutureWarning: The frame.append method is deprecated and will be removed from pandas in a future version. Use pandas.concat instead.\n",
            "  df = df.append({\"Speaker\": speaker, \"Conversation\": text, \"Keywords\": keywords_found}, ignore_index=True)\n",
            "<ipython-input-78-44d5884982a9>:18: FutureWarning: The frame.append method is deprecated and will be removed from pandas in a future version. Use pandas.concat instead.\n",
            "  df = df.append({\"Speaker\": speaker, \"Conversation\": text, \"Keywords\": keywords_found}, ignore_index=True)\n",
            "<ipython-input-78-44d5884982a9>:18: FutureWarning: The frame.append method is deprecated and will be removed from pandas in a future version. Use pandas.concat instead.\n",
            "  df = df.append({\"Speaker\": speaker, \"Conversation\": text, \"Keywords\": keywords_found}, ignore_index=True)\n",
            "<ipython-input-78-44d5884982a9>:18: FutureWarning: The frame.append method is deprecated and will be removed from pandas in a future version. Use pandas.concat instead.\n",
            "  df = df.append({\"Speaker\": speaker, \"Conversation\": text, \"Keywords\": keywords_found}, ignore_index=True)\n",
            "<ipython-input-78-44d5884982a9>:18: FutureWarning: The frame.append method is deprecated and will be removed from pandas in a future version. Use pandas.concat instead.\n",
            "  df = df.append({\"Speaker\": speaker, \"Conversation\": text, \"Keywords\": keywords_found}, ignore_index=True)\n"
          ]
        }
      ]
    },
    {
      "cell_type": "markdown",
      "source": [
        "\n",
        "\n",
        "---\n",
        "형태소를 출력하여 더 자세하게 분류하기기\n"
      ],
      "metadata": {
        "id": "aOzkcQ30y5Eq"
      }
    },
    {
      "cell_type": "code",
      "source": [
        "!pip install KoNLPy"
      ],
      "metadata": {
        "id": "3kbBZVyRy-Ds",
        "outputId": "0f5019bb-4eda-45ea-97d3-bd7475eccf93",
        "colab": {
          "base_uri": "https://localhost:8080/"
        }
      },
      "execution_count": 79,
      "outputs": [
        {
          "output_type": "stream",
          "name": "stdout",
          "text": [
            "Looking in indexes: https://pypi.org/simple, https://us-python.pkg.dev/colab-wheels/public/simple/\n",
            "Collecting KoNLPy\n",
            "  Downloading konlpy-0.6.0-py2.py3-none-any.whl (19.4 MB)\n",
            "\u001b[2K     \u001b[90m━━━━━━━━━━━━━━━━━━━━━━━━━━━━━━━━━━━━━━━━\u001b[0m \u001b[32m19.4/19.4 MB\u001b[0m \u001b[31m36.9 MB/s\u001b[0m eta \u001b[36m0:00:00\u001b[0m\n",
            "\u001b[?25hRequirement already satisfied: numpy>=1.6 in /usr/local/lib/python3.9/dist-packages (from KoNLPy) (1.22.4)\n",
            "Requirement already satisfied: lxml>=4.1.0 in /usr/local/lib/python3.9/dist-packages (from KoNLPy) (4.9.2)\n",
            "Collecting JPype1>=0.7.0\n",
            "  Downloading JPype1-1.4.1-cp39-cp39-manylinux_2_12_x86_64.manylinux2010_x86_64.whl (465 kB)\n",
            "\u001b[2K     \u001b[90m━━━━━━━━━━━━━━━━━━━━━━━━━━━━━━━━━━━━━━\u001b[0m \u001b[32m465.3/465.3 KB\u001b[0m \u001b[31m31.2 MB/s\u001b[0m eta \u001b[36m0:00:00\u001b[0m\n",
            "\u001b[?25hRequirement already satisfied: packaging in /usr/local/lib/python3.9/dist-packages (from JPype1>=0.7.0->KoNLPy) (23.0)\n",
            "Installing collected packages: JPype1, KoNLPy\n",
            "Successfully installed JPype1-1.4.1 KoNLPy-0.6.0\n"
          ]
        }
      ]
    },
    {
      "cell_type": "code",
      "source": [
        "#모델 생성\n",
        "from konlpy.tag import Komoran\n",
        "komoran = Komoran()"
      ],
      "metadata": {
        "id": "HEwMnOYkzCZB"
      },
      "execution_count": 80,
      "outputs": []
    },
    {
      "cell_type": "code",
      "source": [
        "from konlpy.tag import Okt\n",
        "\n",
        "okt = Okt()\n",
        "\n",
        "word_dict = {\n",
        "    \"서버\": [\"서버\", \"대용량\"],\n",
        "    \"메모리\": [\"메모리\", \"가상화\", \"용량\", \"성능\"],\n",
        "    \"예산\": [\"예산\", \"추가\", \"교체\", \"비용\", \"돈\", \"시간\"],\n",
        "    \"회의\": [\"회의\", \"대안\", \"해결책\"]\n",
        "}\n",
        "\n",
        "key_words = list(word_dict.keys())\n",
        "\n",
        "df = pd.DataFrame(columns=[\"Speaker\", \"Conversation\", \"Keywords\"])\n",
        "found = 0\n",
        "\n",
        "for line in conversation_list:\n",
        "    speaker, text = line[0], line[1]\n",
        "    keywords_found = []\n",
        "    words = okt.nouns(text)\n",
        "    for keyword in key_words:\n",
        "        if keyword in words:\n",
        "            keywords_found.append(word_dict[keyword][0])\n",
        "            found = 1\n",
        "    if found == 1:\n",
        "        found = 0\n",
        "    else:\n",
        "        keywords_found.append(\"etc\")\n",
        "    df = df.append({\"Speaker\": speaker, \"Conversation\": text, \"Keywords\": keywords_found}, ignore_index=True)\n",
        "\n",
        "print(df)\n",
        "df.to_csv(\"output.csv\", index=False)\n"
      ],
      "metadata": {
        "id": "Q-CWqlv82D8R",
        "outputId": "afe006a0-8b5b-40f8-d04d-b9a529a2e407",
        "colab": {
          "base_uri": "https://localhost:8080/"
        }
      },
      "execution_count": 93,
      "outputs": [
        {
          "output_type": "stream",
          "name": "stderr",
          "text": [
            "<ipython-input-93-2038deec7ccf>:29: FutureWarning: The frame.append method is deprecated and will be removed from pandas in a future version. Use pandas.concat instead.\n",
            "  df = df.append({\"Speaker\": speaker, \"Conversation\": text, \"Keywords\": keywords_found}, ignore_index=True)\n",
            "<ipython-input-93-2038deec7ccf>:29: FutureWarning: The frame.append method is deprecated and will be removed from pandas in a future version. Use pandas.concat instead.\n",
            "  df = df.append({\"Speaker\": speaker, \"Conversation\": text, \"Keywords\": keywords_found}, ignore_index=True)\n",
            "<ipython-input-93-2038deec7ccf>:29: FutureWarning: The frame.append method is deprecated and will be removed from pandas in a future version. Use pandas.concat instead.\n",
            "  df = df.append({\"Speaker\": speaker, \"Conversation\": text, \"Keywords\": keywords_found}, ignore_index=True)\n",
            "<ipython-input-93-2038deec7ccf>:29: FutureWarning: The frame.append method is deprecated and will be removed from pandas in a future version. Use pandas.concat instead.\n",
            "  df = df.append({\"Speaker\": speaker, \"Conversation\": text, \"Keywords\": keywords_found}, ignore_index=True)\n",
            "<ipython-input-93-2038deec7ccf>:29: FutureWarning: The frame.append method is deprecated and will be removed from pandas in a future version. Use pandas.concat instead.\n",
            "  df = df.append({\"Speaker\": speaker, \"Conversation\": text, \"Keywords\": keywords_found}, ignore_index=True)\n",
            "<ipython-input-93-2038deec7ccf>:29: FutureWarning: The frame.append method is deprecated and will be removed from pandas in a future version. Use pandas.concat instead.\n",
            "  df = df.append({\"Speaker\": speaker, \"Conversation\": text, \"Keywords\": keywords_found}, ignore_index=True)\n",
            "<ipython-input-93-2038deec7ccf>:29: FutureWarning: The frame.append method is deprecated and will be removed from pandas in a future version. Use pandas.concat instead.\n",
            "  df = df.append({\"Speaker\": speaker, \"Conversation\": text, \"Keywords\": keywords_found}, ignore_index=True)\n",
            "<ipython-input-93-2038deec7ccf>:29: FutureWarning: The frame.append method is deprecated and will be removed from pandas in a future version. Use pandas.concat instead.\n",
            "  df = df.append({\"Speaker\": speaker, \"Conversation\": text, \"Keywords\": keywords_found}, ignore_index=True)\n",
            "<ipython-input-93-2038deec7ccf>:29: FutureWarning: The frame.append method is deprecated and will be removed from pandas in a future version. Use pandas.concat instead.\n",
            "  df = df.append({\"Speaker\": speaker, \"Conversation\": text, \"Keywords\": keywords_found}, ignore_index=True)\n",
            "<ipython-input-93-2038deec7ccf>:29: FutureWarning: The frame.append method is deprecated and will be removed from pandas in a future version. Use pandas.concat instead.\n",
            "  df = df.append({\"Speaker\": speaker, \"Conversation\": text, \"Keywords\": keywords_found}, ignore_index=True)\n",
            "<ipython-input-93-2038deec7ccf>:29: FutureWarning: The frame.append method is deprecated and will be removed from pandas in a future version. Use pandas.concat instead.\n",
            "  df = df.append({\"Speaker\": speaker, \"Conversation\": text, \"Keywords\": keywords_found}, ignore_index=True)\n",
            "<ipython-input-93-2038deec7ccf>:29: FutureWarning: The frame.append method is deprecated and will be removed from pandas in a future version. Use pandas.concat instead.\n",
            "  df = df.append({\"Speaker\": speaker, \"Conversation\": text, \"Keywords\": keywords_found}, ignore_index=True)\n",
            "<ipython-input-93-2038deec7ccf>:29: FutureWarning: The frame.append method is deprecated and will be removed from pandas in a future version. Use pandas.concat instead.\n",
            "  df = df.append({\"Speaker\": speaker, \"Conversation\": text, \"Keywords\": keywords_found}, ignore_index=True)\n",
            "<ipython-input-93-2038deec7ccf>:29: FutureWarning: The frame.append method is deprecated and will be removed from pandas in a future version. Use pandas.concat instead.\n",
            "  df = df.append({\"Speaker\": speaker, \"Conversation\": text, \"Keywords\": keywords_found}, ignore_index=True)\n",
            "<ipython-input-93-2038deec7ccf>:29: FutureWarning: The frame.append method is deprecated and will be removed from pandas in a future version. Use pandas.concat instead.\n",
            "  df = df.append({\"Speaker\": speaker, \"Conversation\": text, \"Keywords\": keywords_found}, ignore_index=True)\n",
            "<ipython-input-93-2038deec7ccf>:29: FutureWarning: The frame.append method is deprecated and will be removed from pandas in a future version. Use pandas.concat instead.\n",
            "  df = df.append({\"Speaker\": speaker, \"Conversation\": text, \"Keywords\": keywords_found}, ignore_index=True)\n",
            "<ipython-input-93-2038deec7ccf>:29: FutureWarning: The frame.append method is deprecated and will be removed from pandas in a future version. Use pandas.concat instead.\n",
            "  df = df.append({\"Speaker\": speaker, \"Conversation\": text, \"Keywords\": keywords_found}, ignore_index=True)\n",
            "<ipython-input-93-2038deec7ccf>:29: FutureWarning: The frame.append method is deprecated and will be removed from pandas in a future version. Use pandas.concat instead.\n",
            "  df = df.append({\"Speaker\": speaker, \"Conversation\": text, \"Keywords\": keywords_found}, ignore_index=True)\n",
            "<ipython-input-93-2038deec7ccf>:29: FutureWarning: The frame.append method is deprecated and will be removed from pandas in a future version. Use pandas.concat instead.\n",
            "  df = df.append({\"Speaker\": speaker, \"Conversation\": text, \"Keywords\": keywords_found}, ignore_index=True)\n"
          ]
        },
        {
          "output_type": "stream",
          "name": "stdout",
          "text": [
            "   Speaker                                       Conversation       Keywords\n",
            "0     Paul     안녕하세요, 오늘 이 회의에서는 서버 컴퓨터의 메모리에 대해 이야기해보려고 합니다.  [서버, 메모리, 회의]\n",
            "1    Grace            그렇습니다. 서버 컴퓨터의 메모리가 어떤 역할을 하는지 알고 계신가요?      [서버, 메모리]\n",
            "2     John  메모리는 컴퓨터에서 데이터를 저장하고 처리하는데 필요한 공간입니다. 서버 컴퓨터에서...      [서버, 메모리]\n",
            "3   Rachel  그렇습니다. 서버 컴퓨터에서는 대용량 데이터를 처리하므로 메모리 용량이 부족하면 작...      [서버, 메모리]\n",
            "4    David              그렇다면, 서버 컴퓨터에서 메모리 용량을 늘리는 방법은 무엇인가요?      [서버, 메모리]\n",
            "5       su  메모리 용량을 늘리는 방법은 두 가지가 있습니다. 첫 번째는 서버 컴퓨터에 장착된 ...      [서버, 메모리]\n",
            "6     Paul   그렇군요. 메모리를 추가하거나 교체하는 경우에는 어떤 종류의 메모리를 사용해야 할까요?          [메모리]\n",
            "7    Grace  서버 컴퓨터에서는 ECC (Error Correcting Code) 메모리를 사용하...      [서버, 메모리]\n",
            "8     John         그렇다면, 서버 컴퓨터에서 메모리를 추가할 때는 어떤 절차를 따라야 할까요?      [서버, 메모리]\n",
            "9   Rachel  일반적으로 서버 컴퓨터에서 메모리를 추가하거나 교체할 때는 서버를 종료하고 메모리를...      [서버, 메모리]\n",
            "10   David  그렇군요. 그러면, 가상화 기술을 이용한 메모리 용량 늘리기는 어떤 원리로 동작하는...          [메모리]\n",
            "11      su  가상화 기술을 이용해 여러 대의 서버 컴퓨터가 하나의 컴퓨터처럼 동작하도록 만들면,...      [서버, 메모리]\n",
            "12    Paul         어떻게든 이 작업을 빠르게 처리해야 하는데, 이 서버의 메모리는 충분한가요?      [서버, 메모리]\n",
            "13   Grace  그렇지 않습니다. 이 서버는 이미 최대 한도까지 메모리를 채웠습니다. 메모리를 늘리...      [서버, 메모리]\n",
            "14    John                                 그렇다면 다른 대안은 무엇인가요?          [etc]\n",
            "15   Grace  다른 대안으로는 더 빠른 메모리로 업그레이드 하는 것입니다. 그러나 그것은 돈이 많...          [메모리]\n",
            "16  Rachel                              그렇다면, 예산 문제가 생길 수 있죠.           [예산]\n",
            "17   David       예산 문제라면, 메모리의 일부를 해제하여 사용 가능한 공간을 늘릴 수 있습니다.      [메모리, 예산]\n",
            "18   Grace             그것은 가능하지만, 그렇게 할 경우 성능에 영향을 미칠 수 있습니다.          [etc]\n",
            "19    John    그렇지만 우리는 시간이 매우 중요합니다. 우리는 어떤 것이든 빠르게 해결해야 합니다.          [etc]\n",
            "20    Paul                                   다음으로 할 일은 무엇인가요?          [etc]\n",
            "21   Grace  잠시만 기다려주세요. 저는 다른 업그레이드 옵션을 살펴볼 수 있습니다. 이러한 경우...          [etc]\n",
            "22  Rachel                               다른 서버에 대해 어떻게 생각하세요?           [서버]\n",
            "23   David  그것은 우리에게 더 많은 비용을 들일 수 있습니다. 하지만, 시간이 더 많이 소요됩니다.          [etc]\n",
            "24    John                                 그렇다면 다른 대안은 무엇인가요?          [etc]\n",
            "25   Grace       잠시만 기다려주세요. 이 문제를 해결할 수 있는 다른 대안이 있을 수 있습니다.          [etc]\n",
            "26    Paul                         그렇다면 다른 대안을 기다려보는 것이 좋겠군요.          [etc]\n",
            "27  Rachel  우리는 빠른 시일 내에 이 문제를 해결해야 합니다. 이것이 우리 회사의 목표이기 때...          [etc]\n",
            "28   David  저희는 메모리 관련 문제를 다루는 것 이상의 일을 해야 합니다. 이러한 문제를 처리...          [메모리]\n",
            "29    John                         그렇다면 다음에 회의에서 다시 논의해보겠습니다.           [회의]\n",
            "30   Grace                    네, 이 문제를 더 살펴보고 다른 대안을 찾아보겠습니다.          [etc]\n"
          ]
        },
        {
          "output_type": "stream",
          "name": "stderr",
          "text": [
            "<ipython-input-93-2038deec7ccf>:29: FutureWarning: The frame.append method is deprecated and will be removed from pandas in a future version. Use pandas.concat instead.\n",
            "  df = df.append({\"Speaker\": speaker, \"Conversation\": text, \"Keywords\": keywords_found}, ignore_index=True)\n",
            "<ipython-input-93-2038deec7ccf>:29: FutureWarning: The frame.append method is deprecated and will be removed from pandas in a future version. Use pandas.concat instead.\n",
            "  df = df.append({\"Speaker\": speaker, \"Conversation\": text, \"Keywords\": keywords_found}, ignore_index=True)\n",
            "<ipython-input-93-2038deec7ccf>:29: FutureWarning: The frame.append method is deprecated and will be removed from pandas in a future version. Use pandas.concat instead.\n",
            "  df = df.append({\"Speaker\": speaker, \"Conversation\": text, \"Keywords\": keywords_found}, ignore_index=True)\n",
            "<ipython-input-93-2038deec7ccf>:29: FutureWarning: The frame.append method is deprecated and will be removed from pandas in a future version. Use pandas.concat instead.\n",
            "  df = df.append({\"Speaker\": speaker, \"Conversation\": text, \"Keywords\": keywords_found}, ignore_index=True)\n",
            "<ipython-input-93-2038deec7ccf>:29: FutureWarning: The frame.append method is deprecated and will be removed from pandas in a future version. Use pandas.concat instead.\n",
            "  df = df.append({\"Speaker\": speaker, \"Conversation\": text, \"Keywords\": keywords_found}, ignore_index=True)\n",
            "<ipython-input-93-2038deec7ccf>:29: FutureWarning: The frame.append method is deprecated and will be removed from pandas in a future version. Use pandas.concat instead.\n",
            "  df = df.append({\"Speaker\": speaker, \"Conversation\": text, \"Keywords\": keywords_found}, ignore_index=True)\n",
            "<ipython-input-93-2038deec7ccf>:29: FutureWarning: The frame.append method is deprecated and will be removed from pandas in a future version. Use pandas.concat instead.\n",
            "  df = df.append({\"Speaker\": speaker, \"Conversation\": text, \"Keywords\": keywords_found}, ignore_index=True)\n",
            "<ipython-input-93-2038deec7ccf>:29: FutureWarning: The frame.append method is deprecated and will be removed from pandas in a future version. Use pandas.concat instead.\n",
            "  df = df.append({\"Speaker\": speaker, \"Conversation\": text, \"Keywords\": keywords_found}, ignore_index=True)\n",
            "<ipython-input-93-2038deec7ccf>:29: FutureWarning: The frame.append method is deprecated and will be removed from pandas in a future version. Use pandas.concat instead.\n",
            "  df = df.append({\"Speaker\": speaker, \"Conversation\": text, \"Keywords\": keywords_found}, ignore_index=True)\n",
            "<ipython-input-93-2038deec7ccf>:29: FutureWarning: The frame.append method is deprecated and will be removed from pandas in a future version. Use pandas.concat instead.\n",
            "  df = df.append({\"Speaker\": speaker, \"Conversation\": text, \"Keywords\": keywords_found}, ignore_index=True)\n",
            "<ipython-input-93-2038deec7ccf>:29: FutureWarning: The frame.append method is deprecated and will be removed from pandas in a future version. Use pandas.concat instead.\n",
            "  df = df.append({\"Speaker\": speaker, \"Conversation\": text, \"Keywords\": keywords_found}, ignore_index=True)\n",
            "<ipython-input-93-2038deec7ccf>:29: FutureWarning: The frame.append method is deprecated and will be removed from pandas in a future version. Use pandas.concat instead.\n",
            "  df = df.append({\"Speaker\": speaker, \"Conversation\": text, \"Keywords\": keywords_found}, ignore_index=True)\n"
          ]
        }
      ]
    }
  ]
}