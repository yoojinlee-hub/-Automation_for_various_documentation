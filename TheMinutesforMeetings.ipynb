{
  "nbformat": 4,
  "nbformat_minor": 0,
  "metadata": {
    "colab": {
      "provenance": [],
      "authorship_tag": "ABX9TyPfoy6d41/W5qgjQU2v0qML",
      "include_colab_link": true
    },
    "kernelspec": {
      "name": "python3",
      "display_name": "Python 3"
    },
    "language_info": {
      "name": "python"
    }
  },
  "cells": [
    {
      "cell_type": "markdown",
      "metadata": {
        "id": "view-in-github",
        "colab_type": "text"
      },
      "source": [
        "<a href=\"https://colab.research.google.com/github/yoojinlee-hub/Automation_for_various_documentation/blob/main/TheMinutesforMeetings.ipynb\" target=\"_parent\"><img src=\"https://colab.research.google.com/assets/colab-badge.svg\" alt=\"Open In Colab\"/></a>"
      ]
    },
    {
      "cell_type": "code",
      "execution_count": null,
      "metadata": {
        "id": "nnakazujqQdL"
      },
      "outputs": [],
      "source": [
        "!pip install openai"
      ]
    },
    {
      "cell_type": "code",
      "source": [
        "!pip install python-docx"
      ],
      "metadata": {
        "colab": {
          "base_uri": "https://localhost:8080/"
        },
        "id": "XwhVnBmrr1bx",
        "outputId": "3cf98d02-faa2-4021-a690-251b3b2ef37e"
      },
      "execution_count": 25,
      "outputs": [
        {
          "output_type": "stream",
          "name": "stdout",
          "text": [
            "Looking in indexes: https://pypi.org/simple, https://us-python.pkg.dev/colab-wheels/public/simple/\n",
            "Requirement already satisfied: python-docx in /usr/local/lib/python3.9/dist-packages (0.8.11)\n",
            "Requirement already satisfied: lxml>=2.3.2 in /usr/local/lib/python3.9/dist-packages (from python-docx) (4.9.2)\n"
          ]
        }
      ]
    },
    {
      "cell_type": "code",
      "source": [
        "import openai\n",
        "import re"
      ],
      "metadata": {
        "id": "J_lidnKorCR1"
      },
      "execution_count": 39,
      "outputs": []
    },
    {
      "cell_type": "code",
      "source": [
        "import openai\n",
        "import re\n",
        "\n",
        "# OpenAI API key 설정\n",
        "openai.api_key = \"\"\n",
        "\n",
        "# 대화 내용\n",
        "conversation = \"\"\"\n",
        "A: Good morning, everyone. Let's get started with the meeting.\n",
        "B: Good morning. What's on the agenda for today?\n",
        "C: I'd like to discuss the marketing strategy for the new product launch.\n",
        "A: Great. Let's start with that. Does anyone have any ideas to share?\n",
        "B: I think we should focus on social media marketing and influencer partnerships.\n",
        "C: Yes, I agree. We can also create a buzz by organizing a launch event.\n",
        "\"\"\"\n",
        "\n",
        "# GPT-3 모델 예측 결과 받아오기\n",
        "result = openai.Completion.create(\n",
        "    engine=\"text-davinci-002\",\n",
        "    prompt=conversation,\n",
        "    max_tokens=50,\n",
        "    n=1,\n",
        "    stop=None,\n",
        "    temperature=0.5,\n",
        ")\n",
        "\n",
        "# 분류된 대화 내용 저장할 딕셔너리 초기화\n",
        "topics = {}\n",
        "\n",
        "# 정규표현식으로 대화 주제 추출\n",
        "for choice in result.choices:\n",
        "    print(choice.text)\n",
        "    topic = re.search(r\"\\n(\\w.+?):?\", choice.text)\n",
        "    print(topic)\n",
        "    if topic:\n",
        "        topic = topic.group(1)\n",
        "        if topic not in topics:\n",
        "            topics[topic] = []\n",
        "        topics[topic].append(choice.text.strip())\n",
        "        print(topics[topic])\n",
        "\n",
        "\n"
      ],
      "metadata": {
        "colab": {
          "base_uri": "https://localhost:8080/"
        },
        "id": "a9m9XG4zueOT",
        "outputId": "e2bd9555-46ea-4322-9e4e-e8ff0ef26e66"
      },
      "execution_count": 65,
      "outputs": [
        {
          "output_type": "stream",
          "name": "stdout",
          "text": [
            "A: Sounds like we have a plan. Let's move on to the next item on the agenda.\n",
            "None\n"
          ]
        }
      ]
    },
    {
      "cell_type": "code",
      "source": [
        "# 분류된 대화 내용 출력\n",
        "for topic, content in topics.items():\n",
        "    print(f\"\\n[{topic}]\")\n",
        "    for text in content:\n",
        "        print(f\"- {text}\")"
      ],
      "metadata": {
        "id": "KnLSvATcwBGc"
      },
      "execution_count": null,
      "outputs": []
    },
    {
      "cell_type": "code",
      "source": [
        "# OpenAI API Key 인증\n",
        "# https://platform.openai.com/account/api-keys 에서 받을 수 있음\n",
        "openai.api_key = \"\""
      ],
      "metadata": {
        "id": "TGAEjR28rFeb"
      },
      "execution_count": 40,
      "outputs": []
    },
    {
      "cell_type": "code",
      "source": [
        "from IPython.display import display\n",
        "\n",
        "for topic, content in topics.items():\n",
        "    display(f\"\\n[{topic}]\")\n",
        "    for text in content:\n",
        "        display(f\"- {text}\")\n"
      ],
      "metadata": {
        "id": "aOAQRYWVs-Q_"
      },
      "execution_count": 38,
      "outputs": []
    },
    {
      "cell_type": "code",
      "source": [
        "from docx import Document\n",
        "\n",
        "# 대화 내용을 저장할 Word 파일 생성\n",
        "doc = Document()\n",
        "\n",
        "# 분류된 대화 내용을 Word 파일에 쓰기\n",
        "for topic, content in topics.items():\n",
        "    # 대화 주제 쓰기\n",
        "    doc.add_heading(topic, level=1)\n",
        "    # 대화 내용 쓰기\n",
        "    for text in content:\n",
        "        doc.add_paragraph(text)\n",
        "\n",
        "# Word 파일 저장\n",
        "doc.save('meeting.docx')\n"
      ],
      "metadata": {
        "id": "iEm49NK7r9kW"
      },
      "execution_count": 36,
      "outputs": []
    },
    {
      "cell_type": "markdown",
      "source": [
        "\n",
        "\n",
        "---\n",
        "\n",
        "\n",
        "\n",
        "---\n",
        "\n"
      ],
      "metadata": {
        "id": "zgBYRVXIxXy6"
      }
    },
    {
      "cell_type": "code",
      "source": [
        "import re\n",
        "\n",
        "#### 사람 별로 분리\n",
        "# 대화 내용\n",
        "conversation = \"\"\"\n",
        "Paul: 안녕하세요, 오늘 이 회의에서는 서버 컴퓨터의 메모리에 대해 이야기해보려고 합니다.\n",
        "Grace: 그렇습니다. 서버 컴퓨터의 메모리가 어떤 역할을 하는지 알고 계신가요?\n",
        "John: 메모리는 컴퓨터에서 데이터를 저장하고 처리하는데 필요한 공간입니다. 서버 컴퓨터에서는 메모리의 용량이 중요한 역할을 합니다.\n",
        "Rachel: 그렇습니다. 서버 컴퓨터에서는 대용량 데이터를 처리하므로 메모리 용량이 부족하면 작업이 멈추거나 느려질 수 있습니다.\n",
        "David: 그렇다면, 서버 컴퓨터에서 메모리 용량을 늘리는 방법은 무엇인가요?\n",
        "su: 메모리 용량을 늘리는 방법은 두 가지가 있습니다. 첫 번째는 서버 컴퓨터에 장착된 메모리를 추가하거나 교체하는 것이고, 두 번째는 가상화 기술을 이용해 서버 컴퓨터가 여러 대의 컴퓨터처럼 동작하도록 하는 것입니다.\n",
        "Paul: 그렇군요. 메모리를 추가하거나 교체하는 경우에는 어떤 종류의 메모리를 사용해야 할까요?\n",
        "Grace: 서버 컴퓨터에서는 ECC (Error Correcting Code) 메모리를 사용하는 것이 좋습니다. ECC 메모리는 일반 메모리보다 더 안정적이고 오류가 발생할 확률이 낮기 때문입니다.\n",
        "John: 그렇다면, 서버 컴퓨터에서 메모리를 추가할 때는 어떤 절차를 따라야 할까요?\n",
        "Rachel: 일반적으로 서버 컴퓨터에서 메모리를 추가하거나 교체할 때는 서버를 종료하고 메모리를 추가 또는 교체한 후 서버를 다시 부팅하는 것이 좋습니다.\n",
        "David: 그렇군요. 그러면, 가상화 기술을 이용한 메모리 용량 늘리기는 어떤 원리로 동작하는 건가요?\n",
        "su: 가상화 기술을 이용해 여러 대의 서버 컴퓨터가 하나의 컴퓨터처럼 동작하도록 만들면, 각 서버 컴퓨터의 메모리를 모아서\n",
        "Paul: 어떻게든 이 작업을 빠르게 처리해야 하는데, 이 서버의 메모리는 충분한가요?\n",
        "Grace: 그렇지 않습니다. 이 서버는 이미 최대 한도까지 메모리를 채웠습니다. 메모리를 늘리려면 새로운 서버를 추가해야 할 것입니다.\n",
        "John: 그렇다면 다른 대안은 무엇인가요?\n",
        "Grace: 다른 대안으로는 더 빠른 메모리로 업그레이드 하는 것입니다. 그러나 그것은 돈이 많이 들 것입니다.\n",
        "Rachel: 그렇다면, 예산 문제가 생길 수 있죠.\n",
        "David: 예산 문제라면, 메모리의 일부를 해제하여 사용 가능한 공간을 늘릴 수 있습니다.\n",
        "Grace: 그것은 가능하지만, 그렇게 할 경우 성능에 영향을 미칠 수 있습니다.\n",
        "John: 그렇지만 우리는 시간이 매우 중요합니다. 우리는 어떤 것이든 빠르게 해결해야 합니다.\n",
        "Paul: 다음으로 할 일은 무엇인가요?\n",
        "Grace: 잠시만 기다려주세요. 저는 다른 업그레이드 옵션을 살펴볼 수 있습니다. 이러한 경우는 이전에도 있었으므로 이에 대한 해결책이 있을 것입니다.\n",
        "Rachel: 다른 서버에 대해 어떻게 생각하세요?\n",
        "David: 그것은 우리에게 더 많은 비용을 들일 수 있습니다. 하지만, 시간이 더 많이 소요됩니다.\n",
        "John: 그렇다면 다른 대안은 무엇인가요?\n",
        "Grace: 잠시만 기다려주세요. 이 문제를 해결할 수 있는 다른 대안이 있을 수 있습니다.\n",
        "Paul: 그렇다면 다른 대안을 기다려보는 것이 좋겠군요.\n",
        "Rachel: 우리는 빠른 시일 내에 이 문제를 해결해야 합니다. 이것이 우리 회사의 목표이기 때문입니다.\n",
        "David: 저희는 메모리 관련 문제를 다루는 것 이상의 일을 해야 합니다. 이러한 문제를 처리하기 위해 다양한 대안을 고려해야 합니다.\n",
        "John: 그렇다면 다음에 회의에서 다시 논의해보겠습니다.\n",
        "Grace: 네, 이 문제를 더 살펴보고 다른 대안을 찾아보겠습니다.\n",
        "\"\"\"\n",
        "\n",
        "# 대화 내용을 줄 단위로 분리하여 리스트에 저장\n",
        "lines = conversation.strip().split('\\n')\n",
        "\n",
        "# 정규표현식으로 대화 참여자와 대화 내용을 분리하여 딕셔너리에 저장\n",
        "topics = {}\n",
        "for line in lines:\n",
        "    match = re.match(r'(\\w+): (.+)', line)\n",
        "    if match:\n",
        "        speaker, text = match.groups()\n",
        "        if speaker not in topics:\n",
        "            topics[speaker] = []\n",
        "        topics[speaker].append(text.strip())\n",
        "\n",
        "# 대화 주제별로 대화 내용을 분류하여 파일로 저장\n",
        "#with open('minutes.txt', 'w') as f:\n",
        "#    for speaker, texts in topics.items():\n",
        "#        print(f'[{speaker}]\\n')\n",
        "#       for text in texts:\n",
        "#            print(f'- {text}\\n')\n"
      ],
      "metadata": {
        "id": "uRelhFoGxYcd"
      },
      "execution_count": 84,
      "outputs": []
    },
    {
      "cell_type": "code",
      "source": [
        "\n",
        "\n",
        "# 정규표현식 패턴\n",
        "pattern = r'([A-Za-z]+): (.+)'\n",
        "\n",
        "# 대화별로 분리하여 저장할 딕셔너리\n",
        "conversations = {}\n",
        "\n",
        "# 대화 내용에서 패턴에 맞는 대화 분리하여 conversations에 저장\n",
        "for line in conversation.split('\\n'):\n",
        "    match = re.search(pattern, line)\n",
        "    if match:\n",
        "        name = match.group(1)\n",
        "        text = match.group(2)\n",
        "        if name not in conversations:\n",
        "            conversations[name] = []\n",
        "        conversations[name].append(text.strip())\n",
        "\n",
        "# conversations 출력\n",
        "for name, texts in conversations.items():\n",
        "    print(f\"[{name}]\")\n",
        "    for text in texts:\n",
        "        print(f\"- {text}\")\n"
      ],
      "metadata": {
        "colab": {
          "base_uri": "https://localhost:8080/"
        },
        "id": "6wpzf1tdyuzu",
        "outputId": "4008ce89-71d1-466f-8d0f-82f970de49a5"
      },
      "execution_count": 85,
      "outputs": [
        {
          "output_type": "stream",
          "name": "stdout",
          "text": [
            "[Paul]\n",
            "- 안녕하세요, 오늘 이 회의에서는 서버 컴퓨터의 메모리에 대해 이야기해보려고 합니다.\n",
            "- 그렇군요. 메모리를 추가하거나 교체하는 경우에는 어떤 종류의 메모리를 사용해야 할까요?\n",
            "- 어떻게든 이 작업을 빠르게 처리해야 하는데, 이 서버의 메모리는 충분한가요?\n",
            "- 다음으로 할 일은 무엇인가요?\n",
            "- 그렇다면 다른 대안을 기다려보는 것이 좋겠군요.\n",
            "[Grace]\n",
            "- 그렇습니다. 서버 컴퓨터의 메모리가 어떤 역할을 하는지 알고 계신가요?\n",
            "- 서버 컴퓨터에서는 ECC (Error Correcting Code) 메모리를 사용하는 것이 좋습니다. ECC 메모리는 일반 메모리보다 더 안정적이고 오류가 발생할 확률이 낮기 때문입니다.\n",
            "- 그렇지 않습니다. 이 서버는 이미 최대 한도까지 메모리를 채웠습니다. 메모리를 늘리려면 새로운 서버를 추가해야 할 것입니다.\n",
            "- 다른 대안으로는 더 빠른 메모리로 업그레이드 하는 것입니다. 그러나 그것은 돈이 많이 들 것입니다.\n",
            "- 그것은 가능하지만, 그렇게 할 경우 성능에 영향을 미칠 수 있습니다.\n",
            "- 잠시만 기다려주세요. 저는 다른 업그레이드 옵션을 살펴볼 수 있습니다. 이러한 경우는 이전에도 있었으므로 이에 대한 해결책이 있을 것입니다.\n",
            "- 잠시만 기다려주세요. 이 문제를 해결할 수 있는 다른 대안이 있을 수 있습니다.\n",
            "- 네, 이 문제를 더 살펴보고 다른 대안을 찾아보겠습니다.\n",
            "[John]\n",
            "- 메모리는 컴퓨터에서 데이터를 저장하고 처리하는데 필요한 공간입니다. 서버 컴퓨터에서는 메모리의 용량이 중요한 역할을 합니다.\n",
            "- 그렇다면, 서버 컴퓨터에서 메모리를 추가할 때는 어떤 절차를 따라야 할까요?\n",
            "- 그렇다면 다른 대안은 무엇인가요?\n",
            "- 그렇지만 우리는 시간이 매우 중요합니다. 우리는 어떤 것이든 빠르게 해결해야 합니다.\n",
            "- 그렇다면 다른 대안은 무엇인가요?\n",
            "- 그렇다면 다음에 회의에서 다시 논의해보겠습니다.\n",
            "[Rachel]\n",
            "- 그렇습니다. 서버 컴퓨터에서는 대용량 데이터를 처리하므로 메모리 용량이 부족하면 작업이 멈추거나 느려질 수 있습니다.\n",
            "- 일반적으로 서버 컴퓨터에서 메모리를 추가하거나 교체할 때는 서버를 종료하고 메모리를 추가 또는 교체한 후 서버를 다시 부팅하는 것이 좋습니다.\n",
            "- 그렇다면, 예산 문제가 생길 수 있죠.\n",
            "- 다른 서버에 대해 어떻게 생각하세요?\n",
            "- 우리는 빠른 시일 내에 이 문제를 해결해야 합니다. 이것이 우리 회사의 목표이기 때문입니다.\n",
            "[David]\n",
            "- 그렇다면, 서버 컴퓨터에서 메모리 용량을 늘리는 방법은 무엇인가요?\n",
            "- 그렇군요. 그러면, 가상화 기술을 이용한 메모리 용량 늘리기는 어떤 원리로 동작하는 건가요?\n",
            "- 예산 문제라면, 메모리의 일부를 해제하여 사용 가능한 공간을 늘릴 수 있습니다.\n",
            "- 그것은 우리에게 더 많은 비용을 들일 수 있습니다. 하지만, 시간이 더 많이 소요됩니다.\n",
            "- 저희는 메모리 관련 문제를 다루는 것 이상의 일을 해야 합니다. 이러한 문제를 처리하기 위해 다양한 대안을 고려해야 합니다.\n",
            "[su]\n",
            "- 메모리 용량을 늘리는 방법은 두 가지가 있습니다. 첫 번째는 서버 컴퓨터에 장착된 메모리를 추가하거나 교체하는 것이고, 두 번째는 가상화 기술을 이용해 서버 컴퓨터가 여러 대의 컴퓨터처럼 동작하도록 하는 것입니다.\n",
            "- 가상화 기술을 이용해 여러 대의 서버 컴퓨터가 하나의 컴퓨터처럼 동작하도록 만들면, 각 서버 컴퓨터의 메모리를 모아서\n"
          ]
        }
      ]
    },
    {
      "cell_type": "code",
      "source": [
        "from collections import Counter\n",
        "\n",
        "# 대화 내용을 소문자로 변환하여 통일성을 줌\n",
        "#conversation = conversation.lower()\n",
        "\n",
        "# 대화 내용을 단어 단위로 분리\n",
        "words = re.findall(r'\\w+', conversation)\n",
        "\n",
        "# 단어 빈도수 계산\n",
        "word_counts = Counter(words)\n",
        "\n",
        "# 빈도수가 높은 상위 3개의 단어 추출하여 key_word 리스트에 저장\n",
        "key_word = [word for word, count in word_counts.most_common(3)]\n",
        "\n",
        "print(key_word)"
      ],
      "metadata": {
        "colab": {
          "base_uri": "https://localhost:8080/"
        },
        "id": "Gyb9g3RvzusY",
        "outputId": "fa48a64f-64e0-44be-8723-b9204e3f5d63"
      },
      "execution_count": 86,
      "outputs": [
        {
          "output_type": "stream",
          "name": "stdout",
          "text": [
            "['서버', '메모리를', 'Grace']\n"
          ]
        }
      ]
    },
    {
      "cell_type": "code",
      "source": [
        "# 대화에서 나오는 단어(key word) 설정\n",
        "key_words = [\"서버\", \"메모리\", \"대용량\", \"가상화\", \"예산\"]\n",
        "\n",
        "# 정규표현식으로 대화 분리하여 딕셔너리에 저장\n",
        "topics = {key: [] for key in key_words}\n",
        "\n",
        "for line in conversation.split(\"\\n\"):\n",
        "    for key in key_words:\n",
        "        match = re.search(f\"\\\\b{key}\\\\b\", line, re.IGNORECASE)\n",
        "        if match:\n",
        "            topics[key].append(line.strip())\n",
        "            \n",
        "# 분류된 대화 내용 출력\n",
        "for key, content in topics.items():\n",
        "    print(f\"\\n[{key.upper()}]\")\n",
        "    for text in content:\n",
        "        print(f\"- {text}\")\n"
      ],
      "metadata": {
        "colab": {
          "base_uri": "https://localhost:8080/"
        },
        "id": "pcm3igRFzTuq",
        "outputId": "3d8a8909-73f4-414a-c4a1-2a8a35049bc5"
      },
      "execution_count": 91,
      "outputs": [
        {
          "output_type": "stream",
          "name": "stdout",
          "text": [
            "\n",
            "[서버]\n",
            "- Paul: 안녕하세요, 오늘 이 회의에서는 서버 컴퓨터의 메모리에 대해 이야기해보려고 합니다.\n",
            "- Grace: 그렇습니다. 서버 컴퓨터의 메모리가 어떤 역할을 하는지 알고 계신가요?\n",
            "- John: 메모리는 컴퓨터에서 데이터를 저장하고 처리하는데 필요한 공간입니다. 서버 컴퓨터에서는 메모리의 용량이 중요한 역할을 합니다.\n",
            "- Rachel: 그렇습니다. 서버 컴퓨터에서는 대용량 데이터를 처리하므로 메모리 용량이 부족하면 작업이 멈추거나 느려질 수 있습니다.\n",
            "- David: 그렇다면, 서버 컴퓨터에서 메모리 용량을 늘리는 방법은 무엇인가요?\n",
            "- su: 메모리 용량을 늘리는 방법은 두 가지가 있습니다. 첫 번째는 서버 컴퓨터에 장착된 메모리를 추가하거나 교체하는 것이고, 두 번째는 가상화 기술을 이용해 서버 컴퓨터가 여러 대의 컴퓨터처럼 동작하도록 하는 것입니다.\n",
            "- Grace: 서버 컴퓨터에서는 ECC (Error Correcting Code) 메모리를 사용하는 것이 좋습니다. ECC 메모리는 일반 메모리보다 더 안정적이고 오류가 발생할 확률이 낮기 때문입니다.\n",
            "- John: 그렇다면, 서버 컴퓨터에서 메모리를 추가할 때는 어떤 절차를 따라야 할까요?\n",
            "- Rachel: 일반적으로 서버 컴퓨터에서 메모리를 추가하거나 교체할 때는 서버를 종료하고 메모리를 추가 또는 교체한 후 서버를 다시 부팅하는 것이 좋습니다.\n",
            "- su: 가상화 기술을 이용해 여러 대의 서버 컴퓨터가 하나의 컴퓨터처럼 동작하도록 만들면, 각 서버 컴퓨터의 메모리를 모아서\n",
            "\n",
            "[메모리]\n",
            "- Rachel: 그렇습니다. 서버 컴퓨터에서는 대용량 데이터를 처리하므로 메모리 용량이 부족하면 작업이 멈추거나 느려질 수 있습니다.\n",
            "- David: 그렇다면, 서버 컴퓨터에서 메모리 용량을 늘리는 방법은 무엇인가요?\n",
            "- su: 메모리 용량을 늘리는 방법은 두 가지가 있습니다. 첫 번째는 서버 컴퓨터에 장착된 메모리를 추가하거나 교체하는 것이고, 두 번째는 가상화 기술을 이용해 서버 컴퓨터가 여러 대의 컴퓨터처럼 동작하도록 하는 것입니다.\n",
            "- David: 그렇군요. 그러면, 가상화 기술을 이용한 메모리 용량 늘리기는 어떤 원리로 동작하는 건가요?\n",
            "- David: 저희는 메모리 관련 문제를 다루는 것 이상의 일을 해야 합니다. 이러한 문제를 처리하기 위해 다양한 대안을 고려해야 합니다.\n",
            "\n",
            "[대용량]\n",
            "- Rachel: 그렇습니다. 서버 컴퓨터에서는 대용량 데이터를 처리하므로 메모리 용량이 부족하면 작업이 멈추거나 느려질 수 있습니다.\n",
            "\n",
            "[가상화]\n",
            "- su: 메모리 용량을 늘리는 방법은 두 가지가 있습니다. 첫 번째는 서버 컴퓨터에 장착된 메모리를 추가하거나 교체하는 것이고, 두 번째는 가상화 기술을 이용해 서버 컴퓨터가 여러 대의 컴퓨터처럼 동작하도록 하는 것입니다.\n",
            "- David: 그렇군요. 그러면, 가상화 기술을 이용한 메모리 용량 늘리기는 어떤 원리로 동작하는 건가요?\n",
            "- su: 가상화 기술을 이용해 여러 대의 서버 컴퓨터가 하나의 컴퓨터처럼 동작하도록 만들면, 각 서버 컴퓨터의 메모리를 모아서\n",
            "\n",
            "[예산]\n",
            "- Rachel: 그렇다면, 예산 문제가 생길 수 있죠.\n",
            "- David: 예산 문제라면, 메모리의 일부를 해제하여 사용 가능한 공간을 늘릴 수 있습니다.\n"
          ]
        }
      ]
    }
  ]
}