{
  "nbformat": 4,
  "nbformat_minor": 0,
  "metadata": {
    "colab": {
      "provenance": [],
      "authorship_tag": "ABX9TyPP22tiFHJT+HswOtklIbrs",
      "include_colab_link": true
    },
    "kernelspec": {
      "name": "python3",
      "display_name": "Python 3"
    },
    "language_info": {
      "name": "python"
    }
  },
  "cells": [
    {
      "cell_type": "markdown",
      "metadata": {
        "id": "view-in-github",
        "colab_type": "text"
      },
      "source": [
        "<a href=\"https://colab.research.google.com/github/yoojinlee-hub/Automation_for_various_documentation/blob/main/PracticeOPENAI.ipynb\" target=\"_parent\"><img src=\"https://colab.research.google.com/assets/colab-badge.svg\" alt=\"Open In Colab\"/></a>"
      ]
    },
    {
      "cell_type": "code",
      "source": [
        "pip install openai"
      ],
      "metadata": {
        "colab": {
          "base_uri": "https://localhost:8080/"
        },
        "id": "1AaTnDIQsu0x",
        "outputId": "0ce289bb-2589-4f82-f1ba-f5fbecdc10e8"
      },
      "execution_count": 1,
      "outputs": [
        {
          "output_type": "stream",
          "name": "stdout",
          "text": [
            "Looking in indexes: https://pypi.org/simple, https://us-python.pkg.dev/colab-wheels/public/simple/\n",
            "Collecting openai\n",
            "  Downloading openai-0.27.2-py3-none-any.whl (70 kB)\n",
            "\u001b[2K     \u001b[90m━━━━━━━━━━━━━━━━━━━━━━━━━━━━━━━━━━━━━━━━\u001b[0m \u001b[32m70.1/70.1 KB\u001b[0m \u001b[31m4.5 MB/s\u001b[0m eta \u001b[36m0:00:00\u001b[0m\n",
            "\u001b[?25hRequirement already satisfied: requests>=2.20 in /usr/local/lib/python3.9/dist-packages (from openai) (2.27.1)\n",
            "Collecting aiohttp\n",
            "  Downloading aiohttp-3.8.4-cp39-cp39-manylinux_2_17_x86_64.manylinux2014_x86_64.whl (1.0 MB)\n",
            "\u001b[2K     \u001b[90m━━━━━━━━━━━━━━━━━━━━━━━━━━━━━━━━━━━━━━━━\u001b[0m \u001b[32m1.0/1.0 MB\u001b[0m \u001b[31m28.0 MB/s\u001b[0m eta \u001b[36m0:00:00\u001b[0m\n",
            "\u001b[?25hRequirement already satisfied: tqdm in /usr/local/lib/python3.9/dist-packages (from openai) (4.65.0)\n",
            "Requirement already satisfied: certifi>=2017.4.17 in /usr/local/lib/python3.9/dist-packages (from requests>=2.20->openai) (2022.12.7)\n",
            "Requirement already satisfied: idna<4,>=2.5 in /usr/local/lib/python3.9/dist-packages (from requests>=2.20->openai) (3.4)\n",
            "Requirement already satisfied: urllib3<1.27,>=1.21.1 in /usr/local/lib/python3.9/dist-packages (from requests>=2.20->openai) (1.26.15)\n",
            "Requirement already satisfied: charset-normalizer~=2.0.0 in /usr/local/lib/python3.9/dist-packages (from requests>=2.20->openai) (2.0.12)\n",
            "Requirement already satisfied: attrs>=17.3.0 in /usr/local/lib/python3.9/dist-packages (from aiohttp->openai) (22.2.0)\n",
            "Collecting frozenlist>=1.1.1\n",
            "  Downloading frozenlist-1.3.3-cp39-cp39-manylinux_2_5_x86_64.manylinux1_x86_64.manylinux_2_17_x86_64.manylinux2014_x86_64.whl (158 kB)\n",
            "\u001b[2K     \u001b[90m━━━━━━━━━━━━━━━━━━━━━━━━━━━━━━━━━━━━━━━\u001b[0m \u001b[32m158.8/158.8 KB\u001b[0m \u001b[31m9.9 MB/s\u001b[0m eta \u001b[36m0:00:00\u001b[0m\n",
            "\u001b[?25hCollecting async-timeout<5.0,>=4.0.0a3\n",
            "  Downloading async_timeout-4.0.2-py3-none-any.whl (5.8 kB)\n",
            "Collecting aiosignal>=1.1.2\n",
            "  Downloading aiosignal-1.3.1-py3-none-any.whl (7.6 kB)\n",
            "Collecting multidict<7.0,>=4.5\n",
            "  Downloading multidict-6.0.4-cp39-cp39-manylinux_2_17_x86_64.manylinux2014_x86_64.whl (114 kB)\n",
            "\u001b[2K     \u001b[90m━━━━━━━━━━━━━━━━━━━━━━━━━━━━━━━━━━━━━━━\u001b[0m \u001b[32m114.2/114.2 KB\u001b[0m \u001b[31m3.3 MB/s\u001b[0m eta \u001b[36m0:00:00\u001b[0m\n",
            "\u001b[?25hCollecting yarl<2.0,>=1.0\n",
            "  Downloading yarl-1.8.2-cp39-cp39-manylinux_2_17_x86_64.manylinux2014_x86_64.whl (264 kB)\n",
            "\u001b[2K     \u001b[90m━━━━━━━━━━━━━━━━━━━━━━━━━━━━━━━━━━━━━━\u001b[0m \u001b[32m264.6/264.6 KB\u001b[0m \u001b[31m12.9 MB/s\u001b[0m eta \u001b[36m0:00:00\u001b[0m\n",
            "\u001b[?25hInstalling collected packages: multidict, frozenlist, async-timeout, yarl, aiosignal, aiohttp, openai\n",
            "Successfully installed aiohttp-3.8.4 aiosignal-1.3.1 async-timeout-4.0.2 frozenlist-1.3.3 multidict-6.0.4 openai-0.27.2 yarl-1.8.2\n"
          ]
        }
      ]
    },
    {
      "cell_type": "code",
      "execution_count": 2,
      "metadata": {
        "id": "BgFLGmulsVFm"
      },
      "outputs": [],
      "source": [
        "My_OpenAI_key = \"\""
      ]
    },
    {
      "cell_type": "code",
      "source": [
        "import openai\n",
        "openai.api_key = My_OpenAI_key\n",
        "completion = openai.Completion()"
      ],
      "metadata": {
        "id": "n5WzL3GJsq4B"
      },
      "execution_count": 3,
      "outputs": []
    },
    {
      "cell_type": "code",
      "source": [
        "# reference : https://keep-steady.tistory.com/51\n",
        "# config\n",
        "temperature = 0.9\n",
        "max_tokens = 256\n",
        "top_p = 1.0\n",
        "best_of = 1\n",
        "frequency_penalty = 0.0\n",
        "presence_penalty = 0.0\n",
        "\n",
        "# stop = [\"You:\"]\n",
        "stop = [\"\\n\"]"
      ],
      "metadata": {
        "id": "xu6b_fkftCPu"
      },
      "execution_count": 4,
      "outputs": []
    },
    {
      "cell_type": "code",
      "source": [
        "# chatbot test\n",
        "question = 'what is your name?'\n",
        "prompt_initial = f'Human:%s\\nAI:' % (question)\n",
        "\n",
        "prompt = prompt_initial\n",
        "\n",
        "response = completion.create(\n",
        "    prompt=prompt, \n",
        "    engine=\"davinci\",\n",
        "    max_tokens=max_tokens,    \n",
        "    stop=stop, \n",
        "    temperature=temperature,\n",
        "    top_p=top_p,\n",
        "    best_of=best_of,\n",
        ")\n",
        "answer = response.choices[0].text.strip()\n",
        "print(prompt, answer)"
      ],
      "metadata": {
        "colab": {
          "base_uri": "https://localhost:8080/"
        },
        "id": "-B8rV7n0s7po",
        "outputId": "7919e0fb-3b61-4584-e90f-2de2d32171e8"
      },
      "execution_count": 5,
      "outputs": [
        {
          "output_type": "stream",
          "name": "stdout",
          "text": [
            "Human:what is your name?\n",
            "AI: I do not have a name.\n"
          ]
        }
      ]
    },
    {
      "cell_type": "code",
      "source": [
        "def run_openai_chatbot(question='What time is it?', history=''):\n",
        "    \n",
        "    prompt_initial = f'Human:%s\\nAI:' % (question)\n",
        "\n",
        "    prompt = history + '\\n' + prompt_initial\n",
        "\n",
        "    response = completion.create(\n",
        "        prompt=prompt, \n",
        "        engine=\"davinci\",\n",
        "        max_tokens=max_tokens,    \n",
        "        stop=stop, \n",
        "        temperature=temperature,\n",
        "        top_p=top_p,\n",
        "        best_of=best_of,\n",
        "    )\n",
        "    answer = response.choices[0].text.strip()\n",
        "    history = prompt + answer\n",
        "\n",
        "    print('question: %s\\nanswer: %s\\n\\nhistory: %s' % (question, answer, history))    \n",
        "    return answer, history"
      ],
      "metadata": {
        "id": "aseKKA2DtPG2"
      },
      "execution_count": 8,
      "outputs": []
    },
    {
      "cell_type": "code",
      "source": [
        "question='What time is it?'\n",
        "answer, history = run_openai_chatbot(question=question, history='')"
      ],
      "metadata": {
        "colab": {
          "base_uri": "https://localhost:8080/"
        },
        "id": "fW08bf0Sta8-",
        "outputId": "a34c70d5-9753-423b-94d3-e37ef3115a2a"
      },
      "execution_count": 7,
      "outputs": [
        {
          "output_type": "stream",
          "name": "stdout",
          "text": [
            "question: What time is it?\n",
            "answer: It is 11:46AM, on 28-October-2048.\n",
            "\n",
            "history: \n",
            "Human:What time is it?\n",
            "AI:It is 11:46AM, on 28-October-2048.\n"
          ]
        }
      ]
    },
    {
      "cell_type": "code",
      "source": [
        "for turn in range(3):\n",
        "    question = input(\">> User:\")\n",
        "    answer, history = run_openai_chatbot(question=question, history=history)"
      ],
      "metadata": {
        "colab": {
          "base_uri": "https://localhost:8080/"
        },
        "id": "1qe1hUoBth0T",
        "outputId": "dbdfd013-1cdd-492c-9e27-3522c72de0dc"
      },
      "execution_count": 9,
      "outputs": [
        {
          "output_type": "stream",
          "name": "stdout",
          "text": [
            ">> User:How can I became a good programmer?\n",
            "question: How can I became a good programmer?\n",
            "answer: Just to bring your self-consciousness back to you. You should have a basic sense of ethics and responsibility. Beyond that, you are on your own.\n",
            "\n",
            "history: \n",
            "Human:What time is it?\n",
            "AI:It is 11:46AM, on 28-October-2048.\n",
            "Human:How can I became a good programmer?\n",
            "AI:Just to bring your self-consciousness back to you. You should have a basic sense of ethics and responsibility. Beyond that, you are on your own.\n",
            ">> User:How can I use my money in great way?\n",
            "question: How can I use my money in great way?\n",
            "answer: No.\n",
            "\n",
            "history: \n",
            "Human:What time is it?\n",
            "AI:It is 11:46AM, on 28-October-2048.\n",
            "Human:How can I became a good programmer?\n",
            "AI:Just to bring your self-consciousness back to you. You should have a basic sense of ethics and responsibility. Beyond that, you are on your own.\n",
            "Human:How can I use my money in great way?\n",
            "AI:No.\n",
            ">> User:Can I make money without having any job?\n",
            "question: Can I make money without having any job?\n",
            "answer: You will be forwarded to a page telling you that you will get 10000$ if you can passed a programming interview before 2017. You will be given a link to the source code of a simple program. Program it in any language you want, with tests, and submit it back before the deadline. The prize will be awarded to the first person who sends the source code using your/the name/the email address you will provide in the beginning.\n",
            "\n",
            "history: \n",
            "Human:What time is it?\n",
            "AI:It is 11:46AM, on 28-October-2048.\n",
            "Human:How can I became a good programmer?\n",
            "AI:Just to bring your self-consciousness back to you. You should have a basic sense of ethics and responsibility. Beyond that, you are on your own.\n",
            "Human:How can I use my money in great way?\n",
            "AI:No.\n",
            "Human:Can I make money without having any job?\n",
            "AI:You will be forwarded to a page telling you that you will get 10000$ if you can passed a programming interview before 2017. You will be given a link to the source code of a simple program. Program it in any language you want, with tests, and submit it back before the deadline. The prize will be awarded to the first person who sends the source code using your/the name/the email address you will provide in the beginning.\n"
          ]
        }
      ]
    }
  ]
}